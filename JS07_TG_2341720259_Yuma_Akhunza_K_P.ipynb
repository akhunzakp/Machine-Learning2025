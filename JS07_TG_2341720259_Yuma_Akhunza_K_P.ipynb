{
  "nbformat": 4,
  "nbformat_minor": 0,
  "metadata": {
    "colab": {
      "provenance": [],
      "mount_file_id": "https://github.com/akhunzakp/Machine-Learning2025/blob/main/JS07_TG_2341720259_Yuma_Akhunza_K_P.ipynb",
      "authorship_tag": "ABX9TyOtL3ejVdvB1RR8wJSYwGqR",
      "include_colab_link": true
    },
    "kernelspec": {
      "name": "python3",
      "display_name": "Python 3"
    },
    "language_info": {
      "name": "python"
    }
  },
  "cells": [
    {
      "cell_type": "markdown",
      "metadata": {
        "id": "view-in-github",
        "colab_type": "text"
      },
      "source": [
        "<a href=\"https://colab.research.google.com/github/akhunzakp/Machine-Learning2025/blob/main/JS07_TG_2341720259_Yuma_Akhunza_K_P.ipynb\" target=\"_parent\"><img src=\"https://colab.research.google.com/assets/colab-badge.svg\" alt=\"Open In Colab\"/></a>"
      ]
    },
    {
      "cell_type": "markdown",
      "source": [
        "# **Praktikum 1**\n",
        "\n",
        "> Exact NN vs. ANNOY\n",
        "\n",
        "JS07 - Approximate Nearest Neighbors (ANN)"
      ],
      "metadata": {
        "id": "Tk0DFe3cmb70"
      }
    },
    {
      "cell_type": "markdown",
      "source": [
        "## **Langkah 1 - Install Library ANNOY**"
      ],
      "metadata": {
        "id": "1H-YfPnfmrUN"
      }
    },
    {
      "cell_type": "code",
      "execution_count": 15,
      "metadata": {
        "colab": {
          "base_uri": "https://localhost:8080/"
        },
        "id": "Lc7uxnRAl7el",
        "outputId": "37debe53-f2e5-4111-e815-7042a50a4f5d"
      },
      "outputs": [
        {
          "output_type": "stream",
          "name": "stdout",
          "text": [
            "Collecting annoy\n",
            "  Downloading annoy-1.17.3.tar.gz (647 kB)\n",
            "\u001b[?25l     \u001b[90m━━━━━━━━━━━━━━━━━━━━━━━━━━━━━━━━━━━━━━━━\u001b[0m \u001b[32m0.0/647.5 kB\u001b[0m \u001b[31m?\u001b[0m eta \u001b[36m-:--:--\u001b[0m\r\u001b[2K     \u001b[91m━━━━━━━━━\u001b[0m\u001b[90m╺\u001b[0m\u001b[90m━━━━━━━━━━━━━━━━━━━━━━━━━━━━━\u001b[0m \u001b[32m153.6/647.5 kB\u001b[0m \u001b[31m4.4 MB/s\u001b[0m eta \u001b[36m0:00:01\u001b[0m\r\u001b[2K     \u001b[91m━━━━━━━━━━━━━━━━━━━━━━━━━━━━━━━━━━━━━\u001b[0m\u001b[91m╸\u001b[0m \u001b[32m645.1/647.5 kB\u001b[0m \u001b[31m10.1 MB/s\u001b[0m eta \u001b[36m0:00:01\u001b[0m\r\u001b[2K     \u001b[90m━━━━━━━━━━━━━━━━━━━━━━━━━━━━━━━━━━━━━━━\u001b[0m \u001b[32m647.5/647.5 kB\u001b[0m \u001b[31m8.0 MB/s\u001b[0m eta \u001b[36m0:00:00\u001b[0m\n",
            "\u001b[?25h  Preparing metadata (setup.py) ... \u001b[?25l\u001b[?25hdone\n",
            "Building wheels for collected packages: annoy\n",
            "  Building wheel for annoy (setup.py) ... \u001b[?25l\u001b[?25hdone\n",
            "  Created wheel for annoy: filename=annoy-1.17.3-cp312-cp312-linux_x86_64.whl size=551808 sha256=ce5d93b378bd6dce5d6598be6e141d4405d3536110abe77dbc19318fecca9cc7\n",
            "  Stored in directory: /root/.cache/pip/wheels/db/b9/53/a3b2d1fe1743abadddec6aa541294b24fdbc39d7800bc57311\n",
            "Successfully built annoy\n",
            "Installing collected packages: annoy\n",
            "Successfully installed annoy-1.17.3\n"
          ]
        }
      ],
      "source": [
        "# Install ANNOY\n",
        "!pip install annoy"
      ]
    },
    {
      "cell_type": "markdown",
      "source": [
        "## **Langkah 2 - Import Library**\n",
        "\n"
      ],
      "metadata": {
        "id": "dh6C4Aorm3n2"
      }
    },
    {
      "cell_type": "code",
      "source": [
        "# Import Library\n",
        "import numpy as np\n",
        "import matplotlib.pyplot as plt\n",
        "import time\n",
        "\n",
        "from annoy import AnnoyIndex"
      ],
      "metadata": {
        "id": "3we-6FG7m5XV"
      },
      "execution_count": 16,
      "outputs": []
    },
    {
      "cell_type": "markdown",
      "source": [
        "## **Langkah 3 - Membuat Dataset Dummy**\n",
        "\n",
        "Pada langkah ini Anda akan membuat dataset dummy dan memilih titik awal untuk cluster (query point)."
      ],
      "metadata": {
        "id": "_kjqP2mbm7w2"
      }
    },
    {
      "cell_type": "code",
      "source": [
        "# Build Random Dataset and Query Point\n",
        "np.random.seed(42)\n",
        "n_points = 1000\n",
        "X = np.random.rand(n_points, 2) * 100  # random value at 100x100 space\n",
        "\n",
        "# Query point (pick 1 random data point)\n",
        "query = X[np.random.randint(0, n_points)]"
      ],
      "metadata": {
        "id": "1qE8kAPZnED2"
      },
      "execution_count": 17,
      "outputs": []
    },
    {
      "cell_type": "markdown",
      "source": [
        "## **Langkah 4 - Exact NN**\n",
        "\n",
        "Pada langkah ini, Anda akan mengkomputasi jarak terdekat dengan menggunakan metode brute force. Perhatikan waktu yang dihasilkan!"
      ],
      "metadata": {
        "id": "v7_5ckmjnGe8"
      }
    },
    {
      "cell_type": "code",
      "source": [
        "# Compute Exact NN Using Brute Force\n",
        "# It will visit the data one by one\n",
        "start = time.time()\n",
        "distances = np.linalg.norm(X - query, axis=1)\n",
        "idx_exact = np.argsort(distances)[:3]  # ambil 3 terdekat\n",
        "time_exact = time.time() - start\n",
        "\n",
        "print(\"Exact NN index:\", idx_exact)\n",
        "print(\"Exact NN jarak:\", distances[idx_exact])\n",
        "print(\"Waktu Exact:\", round(time_exact*1000, 4), \"ms\")"
      ],
      "metadata": {
        "colab": {
          "base_uri": "https://localhost:8080/"
        },
        "id": "PZVp8sSTnKLd",
        "outputId": "68ccd59e-d65b-4ad8-e298-9f728b27facb"
      },
      "execution_count": 18,
      "outputs": [
        {
          "output_type": "stream",
          "name": "stdout",
          "text": [
            "Exact NN index: [219 898 593]\n",
            "Exact NN jarak: [0.         1.36915938 2.27931544]\n",
            "Waktu Exact: 12.5618 ms\n"
          ]
        }
      ]
    },
    {
      "cell_type": "markdown",
      "source": [
        "## **Langkah 5 - Perhitungan Jarak dengan ANNOY**\n",
        "\n",
        "Selanjutnya, bandingkan dengan ANNOY. Jumlah Tree yang digunakan adalah 3."
      ],
      "metadata": {
        "id": "9bs5fz4nnNjj"
      }
    },
    {
      "cell_type": "code",
      "source": [
        "# ANNOY 3 Tree\n",
        "f = 2  # dimensi\n",
        "t = AnnoyIndex(f, 'euclidean')\n",
        "for i, vec in enumerate(X):\n",
        "    t.add_item(i, vec)\n",
        "\n",
        "t.build(3)  # 3 trees\n",
        "\n",
        "start = time.time()\n",
        "idx_ann = t.get_nns_by_vector(query, 3)  # find 3 NN\n",
        "time_ann = time.time() - start\n",
        "\n",
        "print(\"\\nAnnoy NN index:\", idx_ann)\n",
        "print(\"Annoy NN jarak:\", [np.linalg.norm(X[i]-query) for i in idx_ann])\n",
        "print(\"Waktu Annoy:\", round(time_ann*1000, 4), \"ms\")"
      ],
      "metadata": {
        "colab": {
          "base_uri": "https://localhost:8080/"
        },
        "id": "KpVgda_5nQQk",
        "outputId": "0e554ea1-8dea-40ac-ddc3-92fe52b63371"
      },
      "execution_count": 19,
      "outputs": [
        {
          "output_type": "stream",
          "name": "stdout",
          "text": [
            "\n",
            "Annoy NN index: [219, 898, 770]\n",
            "Annoy NN jarak: [np.float64(0.0), np.float64(1.369159376273702), np.float64(2.568167959732514)]\n",
            "Waktu Annoy: 0.1314 ms\n"
          ]
        }
      ]
    },
    {
      "cell_type": "markdown",
      "source": [
        "## **Langkah 6 - Visualisasi Hasil NN**\n",
        "\n",
        "Untuk mengetahui tingkat ketepatan prediksi NN dari ANNOY, lakukan proses visualisasi sehingga Anda dapat mengetahui titik exact NN dibandingkan dengan perkiraan NN dari ANNOY."
      ],
      "metadata": {
        "id": "PR-tVKytnWKY"
      }
    },
    {
      "cell_type": "code",
      "source": [
        "# Visualize\n",
        "# Knowing the NN produced by Exact NN and ANNOY\n",
        "plt.figure(figsize=(6,6))\n",
        "plt.scatter(X[:,0], X[:,1], c=\"lightgray\", s=20, label=\"Dataset\")\n",
        "plt.scatter(query[0], query[1], c=\"red\", marker=\"x\", s=100, label=\"Query\")\n",
        "\n",
        "# Exact NN ditandai biru\n",
        "plt.scatter(X[idx_exact,0], X[idx_exact,1], c=\"blue\", s=80, label=\"Exact NN\")\n",
        "\n",
        "# Annoy NN ditandai hijau\n",
        "plt.scatter(X[idx_ann,0], X[idx_ann,1], c=\"green\", s=50, marker=\"s\", label=\"Annoy NN\")\n",
        "\n",
        "plt.legend()\n",
        "plt.title(\"Exact NN vs Annoy NN (3 trees)\")\n",
        "plt.show()"
      ],
      "metadata": {
        "colab": {
          "base_uri": "https://localhost:8080/",
          "height": 545
        },
        "id": "XgzBHK6MnZuZ",
        "outputId": "22c820fc-d122-4dba-f6a2-f78cc1a52613"
      },
      "execution_count": 20,
      "outputs": [
        {
          "output_type": "display_data",
          "data": {
            "text/plain": [
              "<Figure size 600x600 with 1 Axes>"
            ],
            "image/png": "[encoded data removed]"
          },
          "metadata": {}
        }
      ]
    },
    {
      "cell_type": "markdown",
      "source": [
        "# **Praktikum 2**\n",
        "\n",
        "> Exact NN vs. FAISS"
      ],
      "metadata": {
        "id": "s5nYdojdnghG"
      }
    },
    {
      "cell_type": "markdown",
      "source": [
        "## **Langah 1 - Instal FAISS**"
      ],
      "metadata": {
        "id": "li8YtkRAno9B"
      }
    },
    {
      "cell_type": "code",
      "source": [
        "!pip install faiss-cpu"
      ],
      "metadata": {
        "colab": {
          "base_uri": "https://localhost:8080/"
        },
        "id": "_D0zUAjInr4G",
        "outputId": "5748ad9a-43e6-4df0-80ac-d03be0abd047"
      },
      "execution_count": 21,
      "outputs": [
        {
          "output_type": "stream",
          "name": "stdout",
          "text": [
            "Collecting faiss-cpu\n",
            "  Downloading faiss_cpu-1.12.0-cp312-cp312-manylinux_2_27_x86_64.manylinux_2_28_x86_64.whl.metadata (5.1 kB)\n",
            "Requirement already satisfied: numpy<3.0,>=1.25.0 in /usr/local/lib/python3.12/dist-packages (from faiss-cpu) (2.0.2)\n",
            "Requirement already satisfied: packaging in /usr/local/lib/python3.12/dist-packages (from faiss-cpu) (25.0)\n",
            "Downloading faiss_cpu-1.12.0-cp312-cp312-manylinux_2_27_x86_64.manylinux_2_28_x86_64.whl (31.4 MB)\n",
            "\u001b[2K   \u001b[90m━━━━━━━━━━━━━━━━━━━━━━━━━━━━━━━━━━━━━━━━\u001b[0m \u001b[32m31.4/31.4 MB\u001b[0m \u001b[31m64.4 MB/s\u001b[0m eta \u001b[36m0:00:00\u001b[0m\n",
            "\u001b[?25hInstalling collected packages: faiss-cpu\n",
            "Successfully installed faiss-cpu-1.12.0\n"
          ]
        }
      ]
    },
    {
      "cell_type": "markdown",
      "source": [
        "## **Langkah 2 - Import Library**"
      ],
      "metadata": {
        "id": "QTRB1qmnn9pw"
      }
    },
    {
      "cell_type": "code",
      "source": [
        "import numpy as np\n",
        "import faiss\n",
        "import matplotlib.pyplot as plt\n",
        "import time"
      ],
      "metadata": {
        "id": "DA5w8YO0oAMb"
      },
      "execution_count": 22,
      "outputs": []
    },
    {
      "cell_type": "markdown",
      "source": [
        "## **Langkah 3 - Membuat Dummy Dataset**"
      ],
      "metadata": {
        "id": "nC8NgdCgoCJ_"
      }
    },
    {
      "cell_type": "code",
      "source": [
        "# Build random data\n",
        "np.random.seed(42)\n",
        "X = np.random.rand(1000, 2).astype('float32')  # 1000 data 2D\n",
        "query = np.array([[0.5, 0.5]], dtype='float32')  # query point"
      ],
      "metadata": {
        "id": "MvrMNuNWoETJ"
      },
      "execution_count": 23,
      "outputs": []
    },
    {
      "cell_type": "markdown",
      "source": [
        "## **Langkah 4 - Buat Model Exact NN**"
      ],
      "metadata": {
        "id": "pEi8cX1ZoGXD"
      }
    },
    {
      "cell_type": "code",
      "source": [
        "# Search NN using Exact NN\n",
        "index_flat = faiss.IndexFlatL2(2)   # L2 = Euclidean distance\n",
        "index_flat.add(X)\n",
        "\n",
        "# Compute Exact NN Time\n",
        "start = time.time()\n",
        "D_flat, I_flat = index_flat.search(query, 3)  # Find 3 NN\n",
        "end = time.time()\n",
        "time_flat = end - start"
      ],
      "metadata": {
        "id": "bzQN8P2QoJd-"
      },
      "execution_count": 25,
      "outputs": []
    },
    {
      "cell_type": "markdown",
      "source": [
        "## **Langkah 5 - Buat Model FAISS**"
      ],
      "metadata": {
        "id": "EVc6x0KTobbH"
      }
    },
    {
      "cell_type": "code",
      "source": [
        "# Compute FAISS\n",
        "nlist = 10   # n-cluster (inverted list)\n",
        "m = 2        # number of subvector\n",
        "quantizer = faiss.IndexFlatL2(2)   # used by IVF for initiatl cluster\n",
        "index_ivfpq = faiss.IndexIVFPQ(quantizer, 2, nlist, m, 8)  # 8 bit per subvector\n",
        "\n",
        "index_ivfpq.train(X)  # training centroid\n",
        "index_ivfpq.add(X)\n",
        "\n",
        "start = time.time()\n",
        "D_ivfpq, I_ivfpq = index_ivfpq.search(query, 3)\n",
        "end = time.time()\n",
        "time_ivfpq = end - start"
      ],
      "metadata": {
        "id": "wIfxn0nTodnb"
      },
      "execution_count": 26,
      "outputs": []
    },
    {
      "cell_type": "markdown",
      "source": [
        "## **Langkah 6 - Cek Hasil Performa**"
      ],
      "metadata": {
        "id": "4JC6u-ziofyO"
      }
    },
    {
      "cell_type": "code",
      "source": [
        "# Print The Peformances\n",
        "print(\"Exact NN (Flat) indices:\", I_flat, \"distances:\", D_flat)\n",
        "print(\"IVF+PQ indices:\", I_ivfpq, \"distances:\", D_ivfpq)\n",
        "print(\"Waktu Exact:\", time_flat)\n",
        "print(\"Waktu IVF+PQ:\", time_ivfpq)"
      ],
      "metadata": {
        "colab": {
          "base_uri": "https://localhost:8080/"
        },
        "id": "AgwBfxt5oiZk",
        "outputId": "e0e150a8-31cb-4f7e-a031-dd461b557ea7"
      },
      "execution_count": 27,
      "outputs": [
        {
          "output_type": "stream",
          "name": "stdout",
          "text": [
            "Exact NN (Flat) indices: [[137 170 750]] distances: [[0.00013095 0.00077404 0.00079751]]\n",
            "IVF+PQ indices: [[137 170 750]] distances: [[0.00012945 0.00079226 0.00080067]]\n",
            "Waktu Exact: 0.00021266937255859375\n",
            "Waktu IVF+PQ: 0.00017499923706054688\n"
          ]
        }
      ]
    },
    {
      "cell_type": "markdown",
      "source": [
        "## **Langkah 7 - Visualisasi**\n",
        "\n",
        "Untuk lebih jelas mengetahui perkiraan NN yang dibuat oleh FAISS, Anda dapat melakukan visualisasi."
      ],
      "metadata": {
        "id": "0jp9Z8y3onT9"
      }
    },
    {
      "cell_type": "code",
      "source": [
        "# Visualize\n",
        "plt.scatter(X[:,0], X[:,1], alpha=0.4, label=\"Dataset\")\n",
        "plt.scatter(query[:,0], query[:,1], c='red', marker='*', s=200, label=\"Query\")\n",
        "\n",
        "# Flat NN -> Exact NN\n",
        "plt.scatter(X[I_flat[0],0], X[I_flat[0],1], c='blue', s=100, edgecolor='k', label=\"Exact NN\")\n",
        "\n",
        "# IVF+PQ NN -> FAISS\n",
        "plt.scatter(X[I_ivfpq[0],0], X[I_ivfpq[0],1], c='green', marker='x', s=100, label=\"IVF+PQ NN\")\n",
        "\n",
        "plt.legend()\n",
        "plt.title(\"Exact NN vs FAISS IVF+PQ\")\n",
        "plt.show()"
      ],
      "metadata": {
        "colab": {
          "base_uri": "https://localhost:8080/",
          "height": 452
        },
        "id": "Q7qP3E2dovAT",
        "outputId": "03b405ae-c01b-4c2c-bb47-af06db31d625"
      },
      "execution_count": 28,
      "outputs": [
        {
          "output_type": "display_data",
          "data": {
            "text/plain": [
              "<Figure size 640x480 with 1 Axes>"
            ],
            "image/png": "[encoded data removed]"
          },
          "metadata": {}
        }
      ]
    },
    {
      "cell_type": "markdown",
      "source": [
        "# **Praktikum 3**\n",
        "\n",
        "> Exact NN vs. HNSW"
      ],
      "metadata": {
        "id": "CVV-immOo2bQ"
      }
    },
    {
      "cell_type": "markdown",
      "source": [
        "## **Langkah 1 - Instal Library**"
      ],
      "metadata": {
        "id": "GLtrU5SjpAlG"
      }
    },
    {
      "cell_type": "code",
      "source": [
        "!pip install hnswlib"
      ],
      "metadata": {
        "colab": {
          "base_uri": "https://localhost:8080/"
        },
        "id": "YtEUlTLXpCgX",
        "outputId": "a866b2ba-e643-43f0-af5f-7af3ffd379b4"
      },
      "execution_count": 3,
      "outputs": [
        {
          "output_type": "stream",
          "name": "stdout",
          "text": [
            "Collecting hnswlib\n",
            "  Downloading hnswlib-0.8.0.tar.gz (36 kB)\n",
            "  Installing build dependencies ... \u001b[?25l\u001b[?25hdone\n",
            "  Getting requirements to build wheel ... \u001b[?25l\u001b[?25hdone\n",
            "  Preparing metadata (pyproject.toml) ... \u001b[?25l\u001b[?25hdone\n",
            "Requirement already satisfied: numpy in /usr/local/lib/python3.12/dist-packages (from hnswlib) (2.0.2)\n",
            "Building wheels for collected packages: hnswlib\n",
            "  Building wheel for hnswlib (pyproject.toml) ... \u001b[?25l\u001b[?25hdone\n",
            "  Created wheel for hnswlib: filename=hnswlib-0.8.0-cp312-cp312-linux_x86_64.whl size=2528145 sha256=b3416d0010851fb6bbbf33ab8bbf55ee55cbf143cc26cc89b8d74ffe12d787c1\n",
            "  Stored in directory: /root/.cache/pip/wheels/ac/39/b3/cbd7f9cbb76501d2d5fbc84956e70d0b94e788aac87bda465e\n",
            "Successfully built hnswlib\n",
            "Installing collected packages: hnswlib\n",
            "Successfully installed hnswlib-0.8.0\n"
          ]
        }
      ]
    },
    {
      "cell_type": "markdown",
      "source": [
        "## **Langkah 2 - Import Library**"
      ],
      "metadata": {
        "id": "uCFuHkwdpq4z"
      }
    },
    {
      "cell_type": "code",
      "source": [
        "import hnswlib\n",
        "import numpy as np\n",
        "import time\n",
        "from sklearn.neighbors import NearestNeighbors"
      ],
      "metadata": {
        "id": "2jjCf8T1pvR6"
      },
      "execution_count": 4,
      "outputs": []
    },
    {
      "cell_type": "markdown",
      "source": [
        "## **Langkah 3 - Buat Dataset Dummy**"
      ],
      "metadata": {
        "id": "EOXV8DSYpxve"
      }
    },
    {
      "cell_type": "code",
      "source": [
        "# Build Dummy Dataset\n",
        "num_elements = 1000\n",
        "dim = 2\n",
        "data = np.random.random((num_elements, dim)).astype(np.float32)\n",
        "\n",
        "# Query point\n",
        "query = np.array([[0.5, 0.5]], dtype=np.float32)\n",
        "k = 5  # cari 5 tetangga terdekatn"
      ],
      "metadata": {
        "id": "Ki7hNUiUp2a0"
      },
      "execution_count": 5,
      "outputs": []
    },
    {
      "cell_type": "markdown",
      "source": [
        "## **Langkah 4 - Buat Model NN**"
      ],
      "metadata": {
        "id": "vCgauabcDnN-"
      }
    },
    {
      "cell_type": "code",
      "source": [
        "# Build NN Model\n",
        "nn = NearestNeighbors(n_neighbors=k, algorithm='brute', metric='euclidean')\n",
        "nn.fit(data)\n",
        "\n",
        "# Compute time performace\n",
        "start = time.time()\n",
        "distances, indices = nn.kneighbors(query)\n",
        "end = time.time()\n",
        "\n",
        "print(\"=== Exact NN ===\")\n",
        "print(\"Indices:\", indices)\n",
        "print(\"Distances:\", distances)\n",
        "print(\"Waktu:\", end - start, \"s\")"
      ],
      "metadata": {
        "colab": {
          "base_uri": "https://localhost:8080/"
        },
        "id": "-LbXdHc4DpzL",
        "outputId": "37992899-39b6-449c-d8f3-853af256003f"
      },
      "execution_count": 6,
      "outputs": [
        {
          "output_type": "stream",
          "name": "stdout",
          "text": [
            "=== Exact NN ===\n",
            "Indices: [[302 976 173 775 777]]\n",
            "Distances: [[0.02581025 0.03208065 0.03693281 0.03807293 0.0482225 ]]\n",
            "Waktu: 0.1054525375366211 s\n"
          ]
        }
      ]
    },
    {
      "cell_type": "markdown",
      "source": [
        "## **Langkah 5 - Buat Model HNSW**"
      ],
      "metadata": {
        "id": "3i3wPwZBEDZM"
      }
    },
    {
      "cell_type": "code",
      "source": [
        "# Initiate Index\n",
        "p = hnswlib.Index(space='l2', dim=dim)\n",
        "\n",
        "# Define Max Elements\n",
        "p.init_index(max_elements=num_elements, ef_construction=100, M=16)\n",
        "\n",
        "# Add Data\n",
        "p.add_items(data)\n",
        "\n",
        "# Set searching parameter\n",
        "p.set_ef(50)   # tradeoff speed vs accuracy\n",
        "\n",
        "start = time.time()\n",
        "labels, distances = p.knn_query(query, k=k)\n",
        "end = time.time()\n",
        "\n",
        "print(\"\\n=== HNSW ===\")\n",
        "print(\"Indices:\", labels)\n",
        "print(\"Distances:\", distances)\n",
        "print(\"Waktu:\", end - start, \"s\")"
      ],
      "metadata": {
        "colab": {
          "base_uri": "https://localhost:8080/"
        },
        "id": "cR5Uim7REGZz",
        "outputId": "4f4ff8a5-9e63-4617-cda7-7552bea1c938"
      },
      "execution_count": 7,
      "outputs": [
        {
          "output_type": "stream",
          "name": "stdout",
          "text": [
            "\n",
            "=== HNSW ===\n",
            "Indices: [[302 976 173 775 777]]\n",
            "Distances: [[0.00066617 0.00102917 0.00136403 0.00144955 0.00232541]]\n",
            "Waktu: 0.00015783309936523438 s\n"
          ]
        }
      ]
    },
    {
      "cell_type": "markdown",
      "source": [
        "# **Praktikum 4**\n",
        "\n",
        "> ANNOY vs. FAISS vs. HNSW"
      ],
      "metadata": {
        "id": "y43NWFNfEJuv"
      }
    },
    {
      "cell_type": "code",
      "source": [
        "import numpy as np\n",
        "import time\n",
        "from annoy import AnnoyIndex\n",
        "import faiss\n",
        "import hnswlib\n",
        "\n",
        "# ===============================\n",
        "# Build 1mio rows with 5D\n",
        "# ===============================\n",
        "n_data = 1_000_000   # try 100_000 if you have limited memory\n",
        "dim = 5\n",
        "X = np.random.random((n_data, dim)).astype(np.float32)\n",
        "\n",
        "# Query point\n",
        "query = np.random.random((1, dim)).astype(np.float32)\n",
        "k = 10\n",
        "\n",
        "# ===============================\n",
        "# 2. Annoy\n",
        "# ===============================\n",
        "print(\"=== Annoy ===\")\n",
        "ann_index = AnnoyIndex(dim, 'euclidean')\n",
        "\n",
        "start = time.time()\n",
        "for i in range(n_data):\n",
        "    ann_index.add_item(i, X[i])\n",
        "ann_index.build(10)  # 10 trees\n",
        "build_time = time.time() - start\n",
        "\n",
        "start = time.time()\n",
        "neighbors = ann_index.get_nns_by_vector(query[0], k, include_distances=True)\n",
        "query_time = time.time() - start\n",
        "\n",
        "print(\"Build time:\", build_time, \"detik\")\n",
        "print(\"Query time:\", query_time, \"detik\")\n",
        "print(\"Neighbors:\", neighbors[0][:5], \"...\")\n",
        "\n",
        "# ===============================\n",
        "# 3. FAISS (Flat Index)\n",
        "# ===============================\n",
        "print(\"\\n=== FAISS (IndexFlatL2) ===\")\n",
        "faiss_index = faiss.IndexFlatL2(dim)\n",
        "\n",
        "start = time.time()\n",
        "faiss_index.add(X)\n",
        "build_time = time.time() - start\n",
        "\n",
        "start = time.time()\n",
        "distances, indices = faiss_index.search(query, k)\n",
        "query_time = time.time() - start\n",
        "\n",
        "print(\"Build time:\", build_time, \"detik\")\n",
        "print(\"Query time:\", query_time, \"detik\")\n",
        "print(\"Neighbors:\", indices[0][:5], \"...\")\n",
        "\n",
        "# ===============================\n",
        "# 4. HNSW (hnswlib)\n",
        "# ===============================\n",
        "print(\"\\n=== HNSW (hnswlib) ===\")\n",
        "hnsw_index = hnswlib.Index(space='l2', dim=dim)\n",
        "\n",
        "start = time.time()\n",
        "hnsw_index.init_index(max_elements=n_data, ef_construction=200, M=16)\n",
        "hnsw_index.add_items(X)\n",
        "build_time = time.time() - start\n",
        "\n",
        "hnsw_index.set_ef(50)\n",
        "\n",
        "start = time.time()\n",
        "labels, distances = hnsw_index.knn_query(query, k=k)\n",
        "query_time = time.time() - start\n",
        "\n",
        "print(\"Build time:\", build_time, \"detik\")\n",
        "print(\"Query time:\", query_time, \"detik\")\n",
        "print(\"Neighbors:\", labels[0][:5], \"...\")"
      ],
      "metadata": {
        "colab": {
          "base_uri": "https://localhost:8080/"
        },
        "id": "VPd_r6g3EOSH",
        "outputId": "8bd95e65-c7b5-4ce0-d55b-5b3392734d9a"
      },
      "execution_count": 29,
      "outputs": [
        {
          "output_type": "stream",
          "name": "stdout",
          "text": [
            "=== Annoy ===\n",
            "Build time: 28.92135787010193 detik\n",
            "Query time: 0.00022649765014648438 detik\n",
            "Neighbors: [840089, 508662, 532117, 342898, 357944] ...\n",
            "\n",
            "=== FAISS (IndexFlatL2) ===\n",
            "Build time: 0.01491236686706543 detik\n",
            "Query time: 0.006181478500366211 detik\n",
            "Neighbors: [840089 508662 532117 342898 357944] ...\n",
            "\n",
            "=== HNSW (hnswlib) ===\n",
            "Build time: 175.3893494606018 detik\n",
            "Query time: 0.0002930164337158203 detik\n",
            "Neighbors: [840089 508662 532117 342898 357944] ...\n"
          ]
        }
      ]
    },
    {
      "cell_type": "markdown",
      "source": [
        "# **Praktikum 5**\n",
        "\n",
        "> Uji Performansi ANN dengan Recall Query"
      ],
      "metadata": {
        "id": "rIwrwti0G4yU"
      }
    },
    {
      "cell_type": "code",
      "source": [
        "import numpy as np\n",
        "import time\n",
        "import faiss\n",
        "from annoy import AnnoyIndex\n",
        "import hnswlib\n",
        "import matplotlib.pyplot as plt\n",
        "\n",
        "# -------------------------------\n",
        "# Dataset random\n",
        "# -------------------------------\n",
        "d = 128        # dimensi\n",
        "nb = 100000    # jumlah database vector\n",
        "nq = 1000      # jumlah query\n",
        "\n",
        "np.random.seed(42)\n",
        "xb = np.random.random((nb, d)).astype('float32')\n",
        "xq = np.random.random((nq, d)).astype('float32')\n",
        "\n",
        "# -------------------------------\n",
        "# Ground truth dengan FAISS brute force\n",
        "# -------------------------------\n",
        "index_flat = faiss.IndexFlatL2(d)\n",
        "index_flat.add(xb)\n",
        "k = 10\n",
        "_, gt_idx = index_flat.search(xq, k)\n",
        "\n",
        "# -------------------------------\n",
        "# Fungsi recall\n",
        "# -------------------------------\n",
        "def recall_at_k(I_pred, I_gt, k):\n",
        "    correct = 0\n",
        "    for i in range(len(I_pred)):\n",
        "        correct += len(set(I_pred[i][:k]) & set(I_gt[i][:k]))\n",
        "    return correct / (len(I_pred) * k)\n",
        "\n",
        "# -------------------------------\n",
        "# Benchmark Annoy\n",
        "# -------------------------------\n",
        "def run_annoy(xb, xq, n_trees=10, search_k=1000, k=10):\n",
        "    f = xb.shape[1]\n",
        "    index = AnnoyIndex(f, 'euclidean')\n",
        "    for i, v in enumerate(xb):\n",
        "        index.add_item(i, v)\n",
        "    index.build(n_trees)\n",
        "\n",
        "    start = time.time()\n",
        "    I = [index.get_nns_by_vector(v, k, search_k=search_k) for v in xq]\n",
        "    elapsed = (time.time() - start) * 1000 / len(xq)  # ms/query\n",
        "    rec = recall_at_k(I, gt_idx, k)\n",
        "    return rec, elapsed\n",
        "\n",
        "# -------------------------------\n",
        "# Benchmark FAISS IVF\n",
        "# -------------------------------\n",
        "def run_faiss(xb, xq, nlist=100, nprobe=10, k=10):\n",
        "    quantizer = faiss.IndexFlatL2(d)\n",
        "    index = faiss.IndexIVFFlat(quantizer, d, nlist, faiss.METRIC_L2)\n",
        "    index.train(xb)\n",
        "    index.add(xb)\n",
        "\n",
        "    index.nprobe = nprobe\n",
        "    start = time.time()\n",
        "    _, I = index.search(xq, k)\n",
        "    elapsed = (time.time() - start) * 1000 / len(xq)\n",
        "    rec = recall_at_k(I, gt_idx, k)\n",
        "    return rec, elapsed\n",
        "\n",
        "# -------------------------------\n",
        "# Benchmark HNSW\n",
        "# -------------------------------\n",
        "def run_hnsw(xb, xq, ef=100, M=16, k=10):\n",
        "    num_elements = xb.shape[0]\n",
        "    p = hnswlib.Index(space='l2', dim=d)\n",
        "    p.init_index(max_elements=num_elements, ef_construction=200, M=M)\n",
        "    p.add_items(xb)\n",
        "    p.set_ef(ef)\n",
        "\n",
        "    start = time.time()\n",
        "    I, _ = p.knn_query(xq, k)\n",
        "    elapsed = (time.time() - start) * 1000 / len(xq)\n",
        "    rec = recall_at_k(I, gt_idx, k)\n",
        "    return rec, elapsed\n",
        "\n",
        "# -------------------------------\n",
        "# Jalankan benchmark dengan beberapa parameter\n",
        "# -------------------------------\n",
        "results = {\"Annoy\": [], \"Faiss\": [], \"HNSW\": []}\n",
        "\n",
        "# Annoy\n",
        "for sk in [200, 500, 1000, 2000]:\n",
        "    rec, t = run_annoy(xb, xq, n_trees=10, search_k=sk)\n",
        "    results[\"Annoy\"].append((rec, t))\n",
        "\n",
        "# FAISS\n",
        "for npb in [1, 5, 10, 20]:\n",
        "    rec, t = run_faiss(xb, xq, nlist=100, nprobe=npb)\n",
        "    results[\"Faiss\"].append((rec, t))\n",
        "\n",
        "# HNSW\n",
        "for ef in [50, 100, 200, 400]:\n",
        "    rec, t = run_hnsw(xb, xq, ef=ef)\n",
        "    results[\"HNSW\"].append((rec, t))\n",
        "\n",
        "# -------------------------------\n",
        "# Visualisasi trade-off\n",
        "# -------------------------------\n",
        "plt.figure(figsize=(8,6))\n",
        "for label, color in zip(results.keys(), [\"blue\",\"green\",\"red\"]):\n",
        "    recall, qtime = zip(*results[label])\n",
        "    plt.plot(recall, qtime, marker=\"o\", label=label, color=color)\n",
        "\n",
        "plt.xlabel(\"Recall\")\n",
        "plt.ylabel(\"Query Time (ms/query, log scale)\")\n",
        "plt.yscale(\"log\")\n",
        "plt.gca().invert_yaxis()  # invert Y, makin kanan makin turun\n",
        "plt.title(\"ANN Benchmark (Annoy vs Faiss vs HNSW)\")\n",
        "plt.legend()\n",
        "plt.grid(True, which=\"both\", ls=\"--\", alpha=0.6)\n",
        "plt.show()"
      ],
      "metadata": {
        "id": "zK7V8QITG9Rt",
        "outputId": "d3d3578a-bbf4-40b4-d24d-f2fa0ac46bd3",
        "colab": {
          "base_uri": "https://localhost:8080/",
          "height": 564
        }
      },
      "execution_count": 30,
      "outputs": [
        {
          "output_type": "display_data",
          "data": {
            "text/plain": [
              "<Figure size 800x600 with 1 Axes>"
            ],
            "image/png": "[encoded data removed]"
          },
          "metadata": {}
        }
      ]
    },
    {
      "cell_type": "markdown",
      "source": [
        "# Tugas 1\n",
        "\n",
        "\n",
        "Lakukan percobaan pada metric distance yang berbeda, 1000 vs 1.000.000 data, 2D vs 5D data, untuk algoritma,\n",
        "\n",
        "* ANNOY\n",
        "\n",
        "* FAISS\n",
        "\n",
        "* HNSW\n",
        "\n",
        "Catat performansinya dalam bentuk tabel, misa\n",
        "\n",
        "![image.png](data:image/png;base64,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)"
      ],
      "metadata": {
        "id": "wqg4krvaIXGI"
      }
    },
    {
      "cell_type": "code",
      "source": [
        "import numpy as np\n",
        "import time\n",
        "import faiss\n",
        "from annoy import AnnoyIndex\n",
        "import hnswlib\n",
        "import pandas as pd\n",
        "\n",
        "# -------------------------------\n",
        "# Benchmark Annoy\n",
        "# -------------------------------\n",
        "def run_annoy_benchmark(nb, d, k=10):\n",
        "    f = d\n",
        "    index = AnnoyIndex(f, 'euclidean')\n",
        "    data = np.random.random((nb, d)).astype('float32')\n",
        "    query = np.random.random((1000, d)).astype('float32')\n",
        "\n",
        "    build_start = time.time()\n",
        "    for i, v in enumerate(data):\n",
        "        index.add_item(i, v)\n",
        "    index.build(10)  # 10 trees\n",
        "    build_time = time.time() - build_start\n",
        "\n",
        "    # Prepare for querying (Annoy uses vector directly)\n",
        "    query_vectors = query\n",
        "\n",
        "    query_start = time.time()\n",
        "    # Using a loop for multiple queries\n",
        "    for q_vec in query_vectors:\n",
        "        index.get_nns_by_vector(q_vec, k)\n",
        "    query_time = (time.time() - query_start) / 1000 # time per query\n",
        "\n",
        "    return build_time, query_time\n",
        "\n",
        "# -------------------------------\n",
        "# Benchmark FAISS\n",
        "# -------------------------------\n",
        "def run_faiss_benchmark(nb, d, k=10):\n",
        "    data = np.random.random((nb, d)).astype('float32')\n",
        "    query = np.random.random((1000, d)).astype('float32')\n",
        "\n",
        "    quantizer = faiss.IndexFlatL2(d)\n",
        "    index = faiss.IndexIVFFlat(quantizer, d, 100, faiss.METRIC_L2) # nlist=100\n",
        "\n",
        "    build_start = time.time()\n",
        "    index.train(data)\n",
        "    index.add(data)\n",
        "    build_time = time.time() - build_start\n",
        "\n",
        "    index.nprobe = 10 # nprobe=10\n",
        "    query_start = time.time()\n",
        "    _, I = index.search(query, k)\n",
        "    query_time = (time.time() - query_start) / 1000 # time per query\n",
        "\n",
        "    return build_time, query_time\n",
        "\n",
        "\n",
        "# -------------------------------\n",
        "# Benchmark HNSW\n",
        "# -------------------------------\n",
        "def run_hnsw_benchmark(nb, d, k=10):\n",
        "    data = np.random.random((nb, d)).astype('float32')\n",
        "    query = np.random.random((1000, d)).astype('float32')\n",
        "\n",
        "    num_elements = nb\n",
        "    p = hnswlib.Index(space='l2', dim=d)\n",
        "\n",
        "    build_start = time.time()\n",
        "    p.init_index(max_elements=num_elements, ef_construction=200, M=16)\n",
        "    p.add_items(data)\n",
        "    build_time = time.time() - build_start\n",
        "\n",
        "    p.set_ef(50) # ef=50\n",
        "    query_start = time.time()\n",
        "    p.knn_query(query, k=k)\n",
        "    query_time = (time.time() - query_start) / 1000 # time per query\n",
        "\n",
        "    return build_time, query_time\n",
        "\n",
        "# -------------------------------\n",
        "# Run benchmark with different parameters and collect results\n",
        "# -------------------------------\n",
        "criteria = {\n",
        "    \"1000/2D\": (1000, 2),\n",
        "    \"1000/5D\": (1000, 5),\n",
        "    \"1000000/2D\": (1000000, 2),\n",
        "    \"1000000/5D\": (1000000, 5)\n",
        "}\n",
        "\n",
        "results = {}\n",
        "\n",
        "print(\"Running benchmarks...\")\n",
        "for label, (nb, d) in criteria.items():\n",
        "    print(f\"\\nCriterion: {label}\")\n",
        "    np.random.seed(42) # for reproducibility\n",
        "\n",
        "    print(\"  Benchmarking Annoy...\")\n",
        "    annoy_build, annoy_query = run_annoy_benchmark(nb, d)\n",
        "    print(f\"    Annoy Build Time: {annoy_build:.4f} s, Query Time (per query): {annoy_query:.6f} s\")\n",
        "\n",
        "\n",
        "    print(\"  Benchmarking FAISS...\")\n",
        "    faiss_build, faiss_query = run_faiss_benchmark(nb, d)\n",
        "    print(f\"    FAISS Build Time: {faiss_build:.4f} s, Query Time (per query): {faiss_query:.6f} s\")\n",
        "\n",
        "\n",
        "    print(\"  Benchmarking HNSW...\")\n",
        "    hnsw_build, hnsw_query = run_hnsw_benchmark(nb, d)\n",
        "    print(f\"    HNSW Build Time: {hnsw_build:.4f} s, Query Time (per query): {hnsw_query:.6f} s\")\n",
        "\n",
        "    results[label] = {\n",
        "        \"Annoy Build Time (s)\": annoy_build,\n",
        "        \"Annoy Query Time (s/query)\": annoy_query,\n",
        "        \"FAISS Build Time (s)\": faiss_build,\n",
        "        \"FAISS Query Time (s/query)\": faiss_query,\n",
        "        \"HNSW Build Time (s)\": hnsw_build,\n",
        "        \"HNSW Query Time (s/query)\": hnsw_query\n",
        "    }\n",
        "\n",
        "# -------------------------------\n",
        "# Display results in a table\n",
        "# -------------------------------\n",
        "df_results = pd.DataFrame.from_dict(results, orient='index')\n",
        "df_results = df_results[['Annoy Build Time (s)', 'Annoy Query Time (s/query)',\n",
        "                         'FAISS Build Time (s)', 'FAISS Query Time (s/query)',\n",
        "                         'HNSW Build Time (s)', 'HNSW Query Time (s/query)']]\n",
        "\n",
        "print(\"\\n--- Performance Comparison Table ---\")\n",
        "display(df_results)"
      ],
      "metadata": {
        "id": "enxsxU6hIeru",
        "outputId": "d2cff565-35b6-4681-c867-556e705c924d",
        "colab": {
          "base_uri": "https://localhost:8080/",
          "height": 799
        }
      },
      "execution_count": 31,
      "outputs": [
        {
          "output_type": "stream",
          "name": "stdout",
          "text": [
            "Running benchmarks...\n",
            "\n",
            "Criterion: 1000/2D\n",
            "  Benchmarking Annoy...\n",
            "    Annoy Build Time: 0.0263 s, Query Time (per query): 0.000024 s\n",
            "  Benchmarking FAISS...\n",
            "    FAISS Build Time: 0.0016 s, Query Time (per query): 0.000005 s\n",
            "  Benchmarking HNSW...\n",
            "    HNSW Build Time: 0.0493 s, Query Time (per query): 0.000009 s\n",
            "\n",
            "Criterion: 1000/5D\n",
            "  Benchmarking Annoy...\n",
            "    Annoy Build Time: 0.0149 s, Query Time (per query): 0.000021 s\n",
            "  Benchmarking FAISS...\n",
            "    FAISS Build Time: 0.0017 s, Query Time (per query): 0.000004 s\n",
            "  Benchmarking HNSW...\n",
            "    HNSW Build Time: 0.0588 s, Query Time (per query): 0.000013 s\n",
            "\n",
            "Criterion: 1000000/2D\n",
            "  Benchmarking Annoy...\n",
            "    Annoy Build Time: 29.6265 s, Query Time (per query): 0.000055 s\n",
            "  Benchmarking FAISS...\n",
            "    FAISS Build Time: 0.1693 s, Query Time (per query): 0.000516 s\n",
            "  Benchmarking HNSW...\n",
            "    HNSW Build Time: 106.4258 s, Query Time (per query): 0.000017 s\n",
            "\n",
            "Criterion: 1000000/5D\n",
            "  Benchmarking Annoy...\n",
            "    Annoy Build Time: 22.2106 s, Query Time (per query): 0.000063 s\n",
            "  Benchmarking FAISS...\n",
            "    FAISS Build Time: 0.2081 s, Query Time (per query): 0.000480 s\n",
            "  Benchmarking HNSW...\n",
            "    HNSW Build Time: 165.7062 s, Query Time (per query): 0.000035 s\n",
            "\n",
            "--- Performance Comparison Table ---\n"
          ]
        },
        {
          "output_type": "display_data",
          "data": {
            "text/plain": [
              "            Annoy Build Time (s)  Annoy Query Time (s/query)  \\\n",
              "1000/2D                 0.026346                    0.000024   \n",
              "1000/5D                 0.014888                    0.000021   \n",
              "1000000/2D             29.626470                    0.000055   \n",
              "1000000/5D             22.210624                    0.000063   \n",
              "\n",
              "            FAISS Build Time (s)  FAISS Query Time (s/query)  \\\n",
              "1000/2D                 0.001638                    0.000005   \n",
              "1000/5D                 0.001670                    0.000004   \n",
              "1000000/2D              0.169271                    0.000516   \n",
              "1000000/5D              0.208122                    0.000480   \n",
              "\n",
              "            HNSW Build Time (s)  HNSW Query Time (s/query)  \n",
              "1000/2D                0.049272                   0.000009  \n",
              "1000/5D                0.058832                   0.000013  \n",
              "1000000/2D           106.425797                   0.000017  \n",
              "1000000/5D           165.706224                   0.000035  "
            ],
            "text/html": [
              "\n",
              "  <div id=\"df-0e21ff23-acee-4048-8d0e-d1a95f337c61\" class=\"colab-df-container\">\n",
              "    <div>\n",
              "<style scoped>\n",
              "    .dataframe tbody tr th:only-of-type {\n",
              "        vertical-align: middle;\n",
              "    }\n",
              "\n",
              "    .dataframe tbody tr th {\n",
              "        vertical-align: top;\n",
              "    }\n",
              "\n",
              "    .dataframe thead th {\n",
              "        text-align: right;\n",
              "    }\n",
              "</style>\n",
              "<table border=\"1\" class=\"dataframe\">\n",
              "  <thead>\n",
              "    <tr style=\"text-align: right;\">\n",
              "      <th></th>\n",
              "      <th>Annoy Build Time (s)</th>\n",
              "      <th>Annoy Query Time (s/query)</th>\n",
              "      <th>FAISS Build Time (s)</th>\n",
              "      <th>FAISS Query Time (s/query)</th>\n",
              "      <th>HNSW Build Time (s)</th>\n",
              "      <th>HNSW Query Time (s/query)</th>\n",
              "    </tr>\n",
              "  </thead>\n",
              "  <tbody>\n",
              "    <tr>\n",
              "      <th>1000/2D</th>\n",
              "      <td>0.026346</td>\n",
              "      <td>0.000024</td>\n",
              "      <td>0.001638</td>\n",
              "      <td>0.000005</td>\n",
              "      <td>0.049272</td>\n",
              "      <td>0.000009</td>\n",
              "    </tr>\n",
              "    <tr>\n",
              "      <th>1000/5D</th>\n",
              "      <td>0.014888</td>\n",
              "      <td>0.000021</td>\n",
              "      <td>0.001670</td>\n",
              "      <td>0.000004</td>\n",
              "      <td>0.058832</td>\n",
              "      <td>0.000013</td>\n",
              "    </tr>\n",
              "    <tr>\n",
              "      <th>1000000/2D</th>\n",
              "      <td>29.626470</td>\n",
              "      <td>0.000055</td>\n",
              "      <td>0.169271</td>\n",
              "      <td>0.000516</td>\n",
              "      <td>106.425797</td>\n",
              "      <td>0.000017</td>\n",
              "    </tr>\n",
              "    <tr>\n",
              "      <th>1000000/5D</th>\n",
              "      <td>22.210624</td>\n",
              "      <td>0.000063</td>\n",
              "      <td>0.208122</td>\n",
              "      <td>0.000480</td>\n",
              "      <td>165.706224</td>\n",
              "      <td>0.000035</td>\n",
              "    </tr>\n",
              "  </tbody>\n",
              "</table>\n",
              "</div>\n",
              "    <div class=\"colab-df-buttons\">\n",
              "\n",
              "  <div class=\"colab-df-container\">\n",
              "    <button class=\"colab-df-convert\" onclick=\"convertToInteractive('df-0e21ff23-acee-4048-8d0e-d1a95f337c61')\"\n",
              "            title=\"Convert this dataframe to an interactive table.\"\n",
              "            style=\"display:none;\">\n",
              "\n",
              "  <svg xmlns=\"http://www.w3.org/2000/svg\" height=\"24px\" viewBox=\"0 -960 960 960\">\n",
              "    <path d=\"M120-120v-720h720v720H120Zm60-500h600v-160H180v160Zm220 220h160v-160H400v160Zm0 220h160v-160H400v160ZM180-400h160v-160H180v160Zm440 0h160v-160H620v160ZM180-180h160v-160H180v160Zm440 0h160v-160H620v160Z\"/>\n",
              "  </svg>\n",
              "    </button>\n",
              "\n",
              "  <style>\n",
              "    .colab-df-container {\n",
              "      display:flex;\n",
              "      gap: 12px;\n",
              "    }\n",
              "\n",
              "    .colab-df-convert {\n",
              "      background-color: #E8F0FE;\n",
              "      border: none;\n",
              "      border-radius: 50%;\n",
              "      cursor: pointer;\n",
              "      display: none;\n",
              "      fill: #1967D2;\n",
              "      height: 32px;\n",
              "      padding: 0 0 0 0;\n",
              "      width: 32px;\n",
              "    }\n",
              "\n",
              "    .colab-df-convert:hover {\n",
              "      background-color: #E2EBFA;\n",
              "      box-shadow: 0px 1px 2px rgba(60, 64, 67, 0.3), 0px 1px 3px 1px rgba(60, 64, 67, 0.15);\n",
              "      fill: #174EA6;\n",
              "    }\n",
              "\n",
              "    .colab-df-buttons div {\n",
              "      margin-bottom: 4px;\n",
              "    }\n",
              "\n",
              "    [theme=dark] .colab-df-convert {\n",
              "      background-color: #3B4455;\n",
              "      fill: #D2E3FC;\n",
              "    }\n",
              "\n",
              "    [theme=dark] .colab-df-convert:hover {\n",
              "      background-color: #434B5C;\n",
              "      box-shadow: 0px 1px 3px 1px rgba(0, 0, 0, 0.15);\n",
              "      filter: drop-shadow(0px 1px 2px rgba(0, 0, 0, 0.3));\n",
              "      fill: #FFFFFF;\n",
              "    }\n",
              "  </style>\n",
              "\n",
              "    <script>\n",
              "      const buttonEl =\n",
              "        document.querySelector('#df-0e21ff23-acee-4048-8d0e-d1a95f337c61 button.colab-df-convert');\n",
              "      buttonEl.style.display =\n",
              "        google.colab.kernel.accessAllowed ? 'block' : 'none';\n",
              "\n",
              "      async function convertToInteractive(key) {\n",
              "        const element = document.querySelector('#df-0e21ff23-acee-4048-8d0e-d1a95f337c61');\n",
              "        const dataTable =\n",
              "          await google.colab.kernel.invokeFunction('convertToInteractive',\n",
              "                                                    [key], {});\n",
              "        if (!dataTable) return;\n",
              "\n",
              "        const docLinkHtml = 'Like what you see? Visit the ' +\n",
              "          '<a target=\"_blank\" href=https://colab.research.google.com/notebooks/data_table.ipynb>data table notebook</a>'\n",
              "          + ' to learn more about interactive tables.';\n",
              "        element.innerHTML = '';\n",
              "        dataTable['output_type'] = 'display_data';\n",
              "        await google.colab.output.renderOutput(dataTable, element);\n",
              "        const docLink = document.createElement('div');\n",
              "        docLink.innerHTML = docLinkHtml;\n",
              "        element.appendChild(docLink);\n",
              "      }\n",
              "    </script>\n",
              "  </div>\n",
              "\n",
              "\n",
              "    <div id=\"df-f09a4539-639f-4047-be25-75d2b42b4c5f\">\n",
              "      <button class=\"colab-df-quickchart\" onclick=\"quickchart('df-f09a4539-639f-4047-be25-75d2b42b4c5f')\"\n",
              "                title=\"Suggest charts\"\n",
              "                style=\"display:none;\">\n",
              "\n",
              "<svg xmlns=\"http://www.w3.org/2000/svg\" height=\"24px\"viewBox=\"0 0 24 24\"\n",
              "     width=\"24px\">\n",
              "    <g>\n",
              "        <path d=\"M19 3H5c-1.1 0-2 .9-2 2v14c0 1.1.9 2 2 2h14c1.1 0 2-.9 2-2V5c0-1.1-.9-2-2-2zM9 17H7v-7h2v7zm4 0h-2V7h2v10zm4 0h-2v-4h2v4z\"/>\n",
              "    </g>\n",
              "</svg>\n",
              "      </button>\n",
              "\n",
              "<style>\n",
              "  .colab-df-quickchart {\n",
              "      --bg-color: #E8F0FE;\n",
              "      --fill-color: #1967D2;\n",
              "      --hover-bg-color: #E2EBFA;\n",
              "      --hover-fill-color: #174EA6;\n",
              "      --disabled-fill-color: #AAA;\n",
              "      --disabled-bg-color: #DDD;\n",
              "  }\n",
              "\n",
              "  [theme=dark] .colab-df-quickchart {\n",
              "      --bg-color: #3B4455;\n",
              "      --fill-color: #D2E3FC;\n",
              "      --hover-bg-color: #434B5C;\n",
              "      --hover-fill-color: #FFFFFF;\n",
              "      --disabled-bg-color: #3B4455;\n",
              "      --disabled-fill-color: #666;\n",
              "  }\n",
              "\n",
              "  .colab-df-quickchart {\n",
              "    background-color: var(--bg-color);\n",
              "    border: none;\n",
              "    border-radius: 50%;\n",
              "    cursor: pointer;\n",
              "    display: none;\n",
              "    fill: var(--fill-color);\n",
              "    height: 32px;\n",
              "    padding: 0;\n",
              "    width: 32px;\n",
              "  }\n",
              "\n",
              "  .colab-df-quickchart:hover {\n",
              "    background-color: var(--hover-bg-color);\n",
              "    box-shadow: 0 1px 2px rgba(60, 64, 67, 0.3), 0 1px 3px 1px rgba(60, 64, 67, 0.15);\n",
              "    fill: var(--button-hover-fill-color);\n",
              "  }\n",
              "\n",
              "  .colab-df-quickchart-complete:disabled,\n",
              "  .colab-df-quickchart-complete:disabled:hover {\n",
              "    background-color: var(--disabled-bg-color);\n",
              "    fill: var(--disabled-fill-color);\n",
              "    box-shadow: none;\n",
              "  }\n",
              "\n",
              "  .colab-df-spinner {\n",
              "    border: 2px solid var(--fill-color);\n",
              "    border-color: transparent;\n",
              "    border-bottom-color: var(--fill-color);\n",
              "    animation:\n",
              "      spin 1s steps(1) infinite;\n",
              "  }\n",
              "\n",
              "  @keyframes spin {\n",
              "    0% {\n",
              "      border-color: transparent;\n",
              "      border-bottom-color: var(--fill-color);\n",
              "      border-left-color: var(--fill-color);\n",
              "    }\n",
              "    20% {\n",
              "      border-color: transparent;\n",
              "      border-left-color: var(--fill-color);\n",
              "      border-top-color: var(--fill-color);\n",
              "    }\n",
              "    30% {\n",
              "      border-color: transparent;\n",
              "      border-left-color: var(--fill-color);\n",
              "      border-top-color: var(--fill-color);\n",
              "      border-right-color: var(--fill-color);\n",
              "    }\n",
              "    40% {\n",
              "      border-color: transparent;\n",
              "      border-right-color: var(--fill-color);\n",
              "      border-top-color: var(--fill-color);\n",
              "    }\n",
              "    60% {\n",
              "      border-color: transparent;\n",
              "      border-right-color: var(--fill-color);\n",
              "    }\n",
              "    80% {\n",
              "      border-color: transparent;\n",
              "      border-right-color: var(--fill-color);\n",
              "      border-bottom-color: var(--fill-color);\n",
              "    }\n",
              "    90% {\n",
              "      border-color: transparent;\n",
              "      border-bottom-color: var(--fill-color);\n",
              "    }\n",
              "  }\n",
              "</style>\n",
              "\n",
              "      <script>\n",
              "        async function quickchart(key) {\n",
              "          const quickchartButtonEl =\n",
              "            document.querySelector('#' + key + ' button');\n",
              "          quickchartButtonEl.disabled = true;  // To prevent multiple clicks.\n",
              "          quickchartButtonEl.classList.add('colab-df-spinner');\n",
              "          try {\n",
              "            const charts = await google.colab.kernel.invokeFunction(\n",
              "                'suggestCharts', [key], {});\n",
              "          } catch (error) {\n",
              "            console.error('Error during call to suggestCharts:', error);\n",
              "          }\n",
              "          quickchartButtonEl.classList.remove('colab-df-spinner');\n",
              "          quickchartButtonEl.classList.add('colab-df-quickchart-complete');\n",
              "        }\n",
              "        (() => {\n",
              "          let quickchartButtonEl =\n",
              "            document.querySelector('#df-f09a4539-639f-4047-be25-75d2b42b4c5f button');\n",
              "          quickchartButtonEl.style.display =\n",
              "            google.colab.kernel.accessAllowed ? 'block' : 'none';\n",
              "        })();\n",
              "      </script>\n",
              "    </div>\n",
              "\n",
              "  <div id=\"id_dd5735e3-0bc8-40af-8304-8ffac26837e0\">\n",
              "    <style>\n",
              "      .colab-df-generate {\n",
              "        background-color: #E8F0FE;\n",
              "        border: none;\n",
              "        border-radius: 50%;\n",
              "        cursor: pointer;\n",
              "        display: none;\n",
              "        fill: #1967D2;\n",
              "        height: 32px;\n",
              "        padding: 0 0 0 0;\n",
              "        width: 32px;\n",
              "      }\n",
              "\n",
              "      .colab-df-generate:hover {\n",
              "        background-color: #E2EBFA;\n",
              "        box-shadow: 0px 1px 2px rgba(60, 64, 67, 0.3), 0px 1px 3px 1px rgba(60, 64, 67, 0.15);\n",
              "        fill: #174EA6;\n",
              "      }\n",
              "\n",
              "      [theme=dark] .colab-df-generate {\n",
              "        background-color: #3B4455;\n",
              "        fill: #D2E3FC;\n",
              "      }\n",
              "\n",
              "      [theme=dark] .colab-df-generate:hover {\n",
              "        background-color: #434B5C;\n",
              "        box-shadow: 0px 1px 3px 1px rgba(0, 0, 0, 0.15);\n",
              "        filter: drop-shadow(0px 1px 2px rgba(0, 0, 0, 0.3));\n",
              "        fill: #FFFFFF;\n",
              "      }\n",
              "    </style>\n",
              "    <button class=\"colab-df-generate\" onclick=\"generateWithVariable('df_results')\"\n",
              "            title=\"Generate code using this dataframe.\"\n",
              "            style=\"display:none;\">\n",
              "\n",
              "  <svg xmlns=\"http://www.w3.org/2000/svg\" height=\"24px\"viewBox=\"0 0 24 24\"\n",
              "       width=\"24px\">\n",
              "    <path d=\"M7,19H8.4L18.45,9,17,7.55,7,17.6ZM5,21V16.75L18.45,3.32a2,2,0,0,1,2.83,0l1.4,1.43a1.91,1.91,0,0,1,.58,1.4,1.91,1.91,0,0,1-.58,1.4L9.25,21ZM18.45,9,17,7.55Zm-12,3A5.31,5.31,0,0,0,4.9,8.1,5.31,5.31,0,0,0,1,6.5,5.31,5.31,0,0,0,4.9,4.9,5.31,5.31,0,0,0,6.5,1,5.31,5.31,0,0,0,8.1,4.9,5.31,5.31,0,0,0,12,6.5,5.46,5.46,0,0,0,6.5,12Z\"/>\n",
              "  </svg>\n",
              "    </button>\n",
              "    <script>\n",
              "      (() => {\n",
              "      const buttonEl =\n",
              "        document.querySelector('#id_dd5735e3-0bc8-40af-8304-8ffac26837e0 button.colab-df-generate');\n",
              "      buttonEl.style.display =\n",
              "        google.colab.kernel.accessAllowed ? 'block' : 'none';\n",
              "\n",
              "      buttonEl.onclick = () => {\n",
              "        google.colab.notebook.generateWithVariable('df_results');\n",
              "      }\n",
              "      })();\n",
              "    </script>\n",
              "  </div>\n",
              "\n",
              "    </div>\n",
              "  </div>\n"
            ],
            "application/vnd.google.colaboratory.intrinsic+json": {
              "type": "dataframe",
              "variable_name": "df_results",
              "summary": "{\n  \"name\": \"df_results\",\n  \"rows\": 4,\n  \"fields\": [\n    {\n      \"column\": \"Annoy Build Time (s)\",\n      \"properties\": {\n        \"dtype\": \"number\",\n        \"std\": 15.255602686423961,\n        \"min\": 0.01488804817199707,\n        \"max\": 29.62647032737732,\n        \"num_unique_values\": 4,\n        \"samples\": [\n          0.01488804817199707,\n          22.21062397956848,\n          0.02634596824645996\n        ],\n        \"semantic_type\": \"\",\n        \"description\": \"\"\n      }\n    },\n    {\n      \"column\": \"Annoy Query Time (s/query)\",\n      \"properties\": {\n        \"dtype\": \"number\",\n        \"std\": 2.1150705489616727e-05,\n        \"min\": 2.104949951171875e-05,\n        \"max\": 6.282234191894531e-05,\n        \"num_unique_values\": 4,\n        \"samples\": [\n          2.104949951171875e-05,\n          6.282234191894531e-05,\n          2.446770668029785e-05\n        ],\n        \"semantic_type\": \"\",\n        \"description\": \"\"\n      }\n    },\n    {\n      \"column\": \"FAISS Build Time (s)\",\n      \"properties\": {\n        \"dtype\": \"number\",\n        \"std\": 0.10914806612185651,\n        \"min\": 0.0016376972198486328,\n        \"max\": 0.20812249183654785,\n        \"num_unique_values\": 4,\n        \"samples\": [\n          0.0016696453094482422,\n          0.20812249183654785,\n          0.0016376972198486328\n        ],\n        \"semantic_type\": \"\",\n        \"description\": \"\"\n      }\n    },\n    {\n      \"column\": \"FAISS Query Time (s/query)\",\n      \"properties\": {\n        \"dtype\": \"number\",\n        \"std\": 0.00028543717101482495,\n        \"min\": 4.409313201904297e-06,\n        \"max\": 0.0005164976119995117,\n        \"num_unique_values\": 4,\n        \"samples\": [\n          4.409313201904297e-06,\n          0.0004800019264221191,\n          4.6548843383789065e-06\n        ],\n        \"semantic_type\": \"\",\n        \"description\": \"\"\n      }\n    },\n    {\n      \"column\": \"HNSW Build Time (s)\",\n      \"properties\": {\n        \"dtype\": \"number\",\n        \"std\": 82.17123882782577,\n        \"min\": 0.049271583557128906,\n        \"max\": 165.70622396469116,\n        \"num_unique_values\": 4,\n        \"samples\": [\n          0.05883193016052246,\n          165.70622396469116,\n          0.049271583557128906\n        ],\n        \"semantic_type\": \"\",\n        \"description\": \"\"\n      }\n    },\n    {\n      \"column\": \"HNSW Query Time (s/query)\",\n      \"properties\": {\n        \"dtype\": \"number\",\n        \"std\": 1.1191701493607213e-05,\n        \"min\": 9.47737693786621e-06,\n        \"max\": 3.454351425170898e-05,\n        \"num_unique_values\": 4,\n        \"samples\": [\n          1.2511491775512695e-05,\n          3.454351425170898e-05,\n          9.47737693786621e-06\n        ],\n        \"semantic_type\": \"\",\n        \"description\": \"\"\n      }\n    }\n  ]\n}"
            }
          },
          "metadata": {}
        }
      ]
    },
    {
      "cell_type": "markdown",
      "source": [
        "> **Ringkasan Kode Benchmark ANN (Approximate Nearest Neighbor)**\n",
        "\n",
        "Dokumen ini menjelaskan tujuan, komponen, dan skenario pengujian dari skrip Python untuk membandingkan kinerja tiga pustaka ANN populer: Annoy, FAISS, dan HNSW.\n",
        "\n",
        "1. Tujuan Kode\n",
        "Skrip Python ini bertujuan untuk mengukur kinerja (performansi) tiga pustaka Approximate Nearest Neighbor (ANN) terkemuka:\n",
        "\n",
        "* Annoy\n",
        "\n",
        "* FAISS\n",
        "\n",
        "* HNSW\n",
        "\n",
        "Metrik yang diukur meliputi:\n",
        "\n",
        "* Waktu Pembuatan Index (Build Time): Durasi yang dibutuhkan untuk membuat struktur index.\n",
        "\n",
        "* Waktu Kueri (Query Time): Durasi yang dibutuhkan untuk mencari tetangga terdekat.\n",
        "\n",
        "Pengujian dilakukan pada dataset dengan berbagai ukuran dan dimensi vektor.\n",
        "\n",
        "\n",
        "**Skrip ini adalah alat yang efektif untuk:**\n",
        "\n",
        "* Membandingkan efisiensi antara Annoy, FAISS, dan HNSW.\n",
        "\n",
        "* Mengukur kecepatan mereka dalam membuat dan mencari index vektor.\n",
        "\n",
        "* Membantu pengambilan keputusan mengenai algoritma ANN mana yang paling cepat atau paling scalable (mudah diskalakan) berdasarkan ukuran dataset dan dimensi vektor yang dihadapi."
      ],
      "metadata": {
        "id": "nF5gf2j9KUZu"
      }
    },
    {
      "cell_type": "markdown",
      "source": [
        "# **Tugas 2**\n",
        "\n",
        "Lakukan percobaan penggunaan ANNOY, FAISS, dan HNSWLIB pada dataset sekunder berukuran besar (Micro Spotify) pada link berikut: https://www.kaggle.com/datasets/bwandowando/spotify-songs-with-attributes-and-lyrics/data .\n",
        "\n",
        "* Download data dan load CSV filenya (pilih dataset yg pertama dari dua dataset).\n",
        "\n",
        "* Pilih hanya fitur numerik saja, dan lakukan normalisasi menggunakan StandardScaler.\n",
        "\n",
        "* Lakukan pencarian track terdekat dan bandingkan hasilnya.\n",
        "\n",
        "* Lakkan perbandingan pada exact NN, ANNOY, FAISS, dan HNSW"
      ],
      "metadata": {
        "id": "HGUUK-HFK53i"
      }
    },
    {
      "cell_type": "code",
      "source": [
        "import pandas as pd\n",
        "from sklearn.preprocessing import StandardScaler\n",
        "\n",
        "df = pd.read_csv(\"/content/drive/MyDrive/Yuma Akhunza Kausar Putra - 2341720259/songs_with_attributes_and_lyrics.csv\")"
      ],
      "metadata": {
        "id": "2I_8VgL_K5IC"
      },
      "execution_count": 32,
      "outputs": []
    },
    {
      "cell_type": "markdown",
      "source": [],
      "metadata": {
        "id": "aX6z240MQraw"
      }
    },
    {
      "cell_type": "code",
      "source": [
        "numerical_cols = df.select_dtypes(include=np.number).columns\n",
        "scaler = StandardScaler()\n",
        "scaled_numerical_features = scaler.fit_transform(df[numerical_cols])"
      ],
      "metadata": {
        "id": "NectVTZpQsnO"
      },
      "execution_count": 33,
      "outputs": []
    },
    {
      "cell_type": "markdown",
      "source": [],
      "metadata": {
        "id": "WNjEiK8yQumm"
      }
    },
    {
      "cell_type": "code",
      "source": [
        "import numpy as np\n",
        "numerical_cols = df.select_dtypes(include=np.number).columns\n",
        "scaler = StandardScaler()\n",
        "scaled_numerical_features = scaler.fit_transform(df[numerical_cols])"
      ],
      "metadata": {
        "id": "GASzb7WiQvDv"
      },
      "execution_count": 34,
      "outputs": []
    },
    {
      "cell_type": "markdown",
      "source": [
        "Exact nearest neighbor search"
      ],
      "metadata": {
        "id": "_lMg5-0lQyDX"
      }
    },
    {
      "cell_type": "code",
      "source": [
        "# Select a random query point\n",
        "np.random.seed(42) # for reproducibility\n",
        "query_point = scaled_numerical_features[np.random.randint(0, scaled_numerical_features.shape[0])]\n",
        "\n",
        "# Measure the time taken for the search process\n",
        "start_time = time.time()\n",
        "\n",
        "# Calculate Euclidean distance between the query point and all other data points\n",
        "distances = np.linalg.norm(scaled_numerical_features - query_point, axis=1)\n",
        "\n",
        "# Find the indices of the 10 nearest neighbors\n",
        "exact_nn_indices = np.argsort(distances)[:10]\n",
        "\n",
        "# Stop measuring time\n",
        "end_time = time.time()\n",
        "exact_nn_search_time = end_time - start_time\n",
        "\n",
        "# Store the indices of the nearest neighbors and the search time (already done in variables)\n",
        "\n",
        "print(\"Exact NN Indices:\", exact_nn_indices)\n",
        "print(\"Exact NN Search Time:\", exact_nn_search_time, \"seconds\")"
      ],
      "metadata": {
        "id": "FCT9EoRkQyh0",
        "outputId": "5707a0ad-06b3-4b96-92bd-50cf78d9670c",
        "colab": {
          "base_uri": "https://localhost:8080/"
        }
      },
      "execution_count": 35,
      "outputs": [
        {
          "output_type": "stream",
          "name": "stdout",
          "text": [
            "Exact NN Indices: [121958 845348 443049 651777 722972 443048  12953 903724 287397 117008]\n",
            "Exact NN Search Time: 0.18660736083984375 seconds\n"
          ]
        }
      ]
    },
    {
      "cell_type": "markdown",
      "source": [],
      "metadata": {
        "id": "xkPCyG_dQ6B0"
      }
    },
    {
      "cell_type": "code",
      "source": [
        "import time\n",
        "\n",
        "# Select a random query point\n",
        "np.random.seed(42) # for reproducibility\n",
        "query_point = scaled_numerical_features[np.random.randint(0, scaled_numerical_features.shape[0])]\n",
        "\n",
        "# Measure the time taken for the search process\n",
        "start_time = time.time()\n",
        "\n",
        "# Calculate Euclidean distance between the query point and all other data points\n",
        "distances = np.linalg.norm(scaled_numerical_features - query_point, axis=1)\n",
        "\n",
        "# Find the indices of the 10 nearest neighbors\n",
        "exact_nn_indices = np.argsort(distances)[:10]\n",
        "\n",
        "# Stop measuring time\n",
        "end_time = time.time()\n",
        "exact_nn_search_time = end_time - start_time\n",
        "\n",
        "# Store the indices of the nearest neighbors and the search time (already done in variables)\n",
        "\n",
        "print(\"Exact NN Indices:\", exact_nn_indices)\n",
        "print(\"Exact NN Search Time:\", exact_nn_search_time, \"seconds\")"
      ],
      "metadata": {
        "id": "O-JNafQ8Q6bK",
        "outputId": "ee0f8d24-fac1-4fca-ce84-9edee1161d37",
        "colab": {
          "base_uri": "https://localhost:8080/"
        }
      },
      "execution_count": 36,
      "outputs": [
        {
          "output_type": "stream",
          "name": "stdout",
          "text": [
            "Exact NN Indices: [121958 845348 443049 651777 722972 443048  12953 903724 287397 117008]\n",
            "Exact NN Search Time: 0.15628385543823242 seconds\n"
          ]
        }
      ]
    },
    {
      "cell_type": "markdown",
      "source": [
        "## Annoy nearest neighbor search"
      ],
      "metadata": {
        "id": "zIBLtqB3Q8z4"
      }
    },
    {
      "cell_type": "code",
      "source": [
        "# 1. Determine the dimensionality of the preprocessed numerical features\n",
        "dim = scaled_numerical_features.shape[1]\n",
        "\n",
        "# 2. Initialize an Annoy index\n",
        "annoy_index = AnnoyIndex(dim, 'euclidean')\n",
        "\n",
        "# 3. Add each vector from scaled_numerical_features to the Annoy index\n",
        "for i in range(scaled_numerical_features.shape[0]):\n",
        "    annoy_index.add_item(i, scaled_numerical_features[i])\n",
        "\n",
        "# 4. Build the Annoy index\n",
        "n_trees = 10 # Suitable number of trees\n",
        "annoy_index.build(n_trees)\n",
        "\n",
        "# 5. Select the same query point used for the exact nearest neighbor search (already have query_point from previous step)\n",
        "\n",
        "# 6. Measure the time taken to perform a search\n",
        "start_time_annoy = time.time()\n",
        "annoy_nn_indices, annoy_nn_distances = annoy_index.get_nns_by_vector(query_point, 10, include_distances=True)\n",
        "end_time_annoy = time.time()\n",
        "annoy_query_time = end_time_annoy - start_time_annoy\n",
        "\n",
        "# 7. Store the indices and distances (done in step 6 variables)\n",
        "\n",
        "# 8. Print the indices, distances, and the query time\n",
        "print(\"Annoy NN Indices:\", annoy_nn_indices)\n",
        "print(\"Annoy NN Distances:\", annoy_nn_distances)\n",
        "print(\"Annoy Query Time:\", annoy_query_time, \"seconds\")"
      ],
      "metadata": {
        "id": "L7Pucg4dQ_B8",
        "outputId": "2d859217-05f7-4bd5-9083-c53a3f32bef2",
        "colab": {
          "base_uri": "https://localhost:8080/"
        }
      },
      "execution_count": 37,
      "outputs": [
        {
          "output_type": "stream",
          "name": "stdout",
          "text": [
            "Annoy NN Indices: [121958, 845348, 443049, 12953, 117008, 474882, 57638, 201246, 845349, 712317]\n",
            "Annoy NN Distances: [0.0, 0.7536836266517639, 0.7823254466056824, 0.8337082862854004, 0.8944501876831055, 0.9023297429084778, 0.903571367263794, 0.9085929989814758, 0.928155243396759, 0.955220103263855]\n",
            "Annoy Query Time: 0.0002646446228027344 seconds\n"
          ]
        }
      ]
    },
    {
      "cell_type": "markdown",
      "source": [],
      "metadata": {
        "id": "OAihFugnRCBv"
      }
    },
    {
      "cell_type": "code",
      "source": [
        "from annoy import AnnoyIndex\n",
        "import time\n",
        "\n",
        "# 1. Determine the dimensionality of the preprocessed numerical features\n",
        "dim = scaled_numerical_features.shape[1]\n",
        "\n",
        "# 2. Initialize an Annoy index\n",
        "annoy_index = AnnoyIndex(dim, 'euclidean')\n",
        "\n",
        "# 3. Add each vector from scaled_numerical_features to the Annoy index\n",
        "for i in range(scaled_numerical_features.shape[0]):\n",
        "    annoy_index.add_item(i, scaled_numerical_features[i])\n",
        "\n",
        "# 4. Build the Annoy index\n",
        "n_trees = 10 # Suitable number of trees\n",
        "annoy_index.build(n_trees)\n",
        "\n",
        "# 5. Select the same query point used for the exact nearest neighbor search (already have query_point from previous step)\n",
        "\n",
        "# 6. Measure the time taken to perform a search\n",
        "start_time_annoy = time.time()\n",
        "annoy_nn_indices, annoy_nn_distances = annoy_index.get_nns_by_vector(query_point, 10, include_distances=True)\n",
        "end_time_annoy = time.time()\n",
        "annoy_query_time = end_time_annoy - start_time_annoy\n",
        "\n",
        "# 7. Store the indices and distances (done in step 6 variables)\n",
        "\n",
        "# 8. Print the indices, distances, and the query time\n",
        "print(\"Annoy NN Indices:\", annoy_nn_indices)\n",
        "print(\"Annoy NN Distances:\", annoy_nn_distances)\n",
        "print(\"Annoy Query Time:\", annoy_query_time, \"seconds\")"
      ],
      "metadata": {
        "id": "QecBfqUTRCbU",
        "outputId": "7a582fea-467d-41fd-c047-5dcf42ce662b",
        "colab": {
          "base_uri": "https://localhost:8080/"
        }
      },
      "execution_count": 38,
      "outputs": [
        {
          "output_type": "stream",
          "name": "stdout",
          "text": [
            "Annoy NN Indices: [121958, 845348, 443049, 12953, 117008, 474882, 57638, 201246, 845349, 712317]\n",
            "Annoy NN Distances: [0.0, 0.7536836266517639, 0.7823254466056824, 0.8337082862854004, 0.8944501876831055, 0.9023297429084778, 0.903571367263794, 0.9085929989814758, 0.928155243396759, 0.955220103263855]\n",
            "Annoy Query Time: 0.00029587745666503906 seconds\n"
          ]
        }
      ]
    },
    {
      "cell_type": "markdown",
      "source": [],
      "metadata": {
        "id": "c89jI2mNRKM9"
      }
    },
    {
      "cell_type": "code",
      "source": [
        "!pip install annoy"
      ],
      "metadata": {
        "id": "UVkkQXiSRKpp",
        "outputId": "8cd86a60-b832-4aec-82cc-7c754bb460f0",
        "colab": {
          "base_uri": "https://localhost:8080/"
        }
      },
      "execution_count": 39,
      "outputs": [
        {
          "output_type": "stream",
          "name": "stdout",
          "text": [
            "Requirement already satisfied: annoy in /usr/local/lib/python3.12/dist-packages (1.17.3)\n"
          ]
        }
      ]
    },
    {
      "cell_type": "markdown",
      "source": [],
      "metadata": {
        "id": "p0jqQfU0RPOE"
      }
    },
    {
      "cell_type": "code",
      "source": [
        "from annoy import AnnoyIndex\n",
        "import time\n",
        "\n",
        "# 1. Determine the dimensionality of the preprocessed numerical features\n",
        "dim = scaled_numerical_features.shape[1]\n",
        "\n",
        "# 2. Initialize an Annoy index\n",
        "annoy_index = AnnoyIndex(dim, 'euclidean')\n",
        "\n",
        "# 3. Add each vector from scaled_numerical_features to the Annoy index\n",
        "for i in range(scaled_numerical_features.shape[0]):\n",
        "    annoy_index.add_item(i, scaled_numerical_features[i])\n",
        "\n",
        "# 4. Build the Annoy index\n",
        "n_trees = 10 # Suitable number of trees\n",
        "annoy_index.build(n_trees)\n",
        "\n",
        "# 5. Select the same query point used for the exact nearest neighbor search (already have query_point from previous step)\n",
        "\n",
        "# 6. Measure the time taken to perform a search\n",
        "start_time_annoy = time.time()\n",
        "annoy_nn_indices, annoy_nn_distances = annoy_index.get_nns_by_vector(query_point, 10, include_distances=True)\n",
        "end_time_annoy = time.time()\n",
        "annoy_query_time = end_time_annoy - start_time_annoy\n",
        "\n",
        "# 7. Store the indices and distances (done in step 6 variables)\n",
        "\n",
        "# 8. Print the indices, distances, and the query time\n",
        "print(\"Annoy NN Indices:\", annoy_nn_indices)\n",
        "print(\"Annoy NN Distances:\", annoy_nn_distances)\n",
        "print(\"Annoy Query Time:\", annoy_query_time, \"seconds\")"
      ],
      "metadata": {
        "id": "kFQI5JeLRPl3",
        "outputId": "007191de-d914-42c6-dc9c-d1a79ab68753",
        "colab": {
          "base_uri": "https://localhost:8080/"
        }
      },
      "execution_count": 40,
      "outputs": [
        {
          "output_type": "stream",
          "name": "stdout",
          "text": [
            "Annoy NN Indices: [121958, 845348, 443049, 12953, 117008, 474882, 57638, 201246, 845349, 712317]\n",
            "Annoy NN Distances: [0.0, 0.7536836266517639, 0.7823254466056824, 0.8337082862854004, 0.8944501876831055, 0.9023297429084778, 0.903571367263794, 0.9085929989814758, 0.928155243396759, 0.955220103263855]\n",
            "Annoy Query Time: 0.000335693359375 seconds\n"
          ]
        }
      ]
    },
    {
      "cell_type": "markdown",
      "source": [
        "## Faiss nearest neighbor search"
      ],
      "metadata": {
        "id": "6iwadyi1RSVI"
      }
    },
    {
      "cell_type": "code",
      "source": [
        "import faiss\n",
        "import time\n",
        "\n",
        "# 1. Determine the dimensionality of the preprocessed numerical features\n",
        "dim = scaled_numerical_features.shape[1]\n",
        "\n",
        "# 2. Initialize a FAISS index (using IndexFlatL2 for brute-force Euclidean distance)\n",
        "# IndexFlatL2 is chosen here for simplicity and direct comparison of search time\n",
        "# for exact search with FAISS, as it's equivalent to the brute-force numpy method\n",
        "faiss_index = faiss.IndexFlatL2(dim)\n",
        "\n",
        "# 3. Add the preprocessed numerical features to the FAISS index\n",
        "faiss_index.add(scaled_numerical_features)\n",
        "\n",
        "# 4. Select the same query point used for the exact nearest neighbor search (already have query_point)\n",
        "# FAISS search expects a 2D array for the query, even for a single point\n",
        "query_point_faiss = np.array([query_point], dtype='float32')\n",
        "\n",
        "\n",
        "# 5. Measure the time taken to perform a search for the 10 nearest neighbors\n",
        "k = 10\n",
        "start_time_faiss = time.time()\n",
        "faiss_nn_distances, faiss_nn_indices = faiss_index.search(query_point_faiss, k)\n",
        "end_time_faiss = time.time()\n",
        "faiss_query_time = end_time_faiss - start_time_faiss\n",
        "\n",
        "# 6. Store the indices and distances of the nearest neighbors (done in step 5 variables)\n",
        "\n",
        "# 7. Print the indices, distances, and the query time\n",
        "print(\"FAISS NN Indices:\", faiss_nn_indices)\n",
        "print(\"FAISS NN Distances:\", faiss_nn_distances)\n",
        "print(\"FAISS Query Time:\", faiss_query_time, \"seconds\")"
      ],
      "metadata": {
        "id": "z_rgN0H8RUSH",
        "outputId": "510a9b3d-982e-47e4-b6fd-a35359ed0b54",
        "colab": {
          "base_uri": "https://localhost:8080/"
        }
      },
      "execution_count": 41,
      "outputs": [
        {
          "output_type": "stream",
          "name": "stdout",
          "text": [
            "FAISS NN Indices: [[121958 845348 443049 651777 722972 443048  12953 903724 287397 117008]]\n",
            "FAISS NN Distances: [[0.         0.568039   0.6120331  0.63737553 0.66385645 0.68487895\n",
            "  0.6950696  0.77510816 0.7954521  0.80004114]]\n",
            "FAISS Query Time: 0.014247894287109375 seconds\n"
          ]
        }
      ]
    },
    {
      "cell_type": "markdown",
      "source": [],
      "metadata": {
        "id": "QvAO-qC1Rdz0"
      }
    },
    {
      "cell_type": "code",
      "source": [
        "!pip install faiss-cpu"
      ],
      "metadata": {
        "id": "MH1B-7QxReZB",
        "outputId": "a4822fab-70c0-4e0f-ff8a-14e66e47202d",
        "colab": {
          "base_uri": "https://localhost:8080/"
        }
      },
      "execution_count": 42,
      "outputs": [
        {
          "output_type": "stream",
          "name": "stdout",
          "text": [
            "Requirement already satisfied: faiss-cpu in /usr/local/lib/python3.12/dist-packages (1.12.0)\n",
            "Requirement already satisfied: numpy<3.0,>=1.25.0 in /usr/local/lib/python3.12/dist-packages (from faiss-cpu) (2.0.2)\n",
            "Requirement already satisfied: packaging in /usr/local/lib/python3.12/dist-packages (from faiss-cpu) (25.0)\n"
          ]
        }
      ]
    },
    {
      "cell_type": "markdown",
      "source": [],
      "metadata": {
        "id": "SSD0a5nvRhtF"
      }
    },
    {
      "cell_type": "code",
      "source": [
        "import faiss\n",
        "import time\n",
        "\n",
        "# 1. Determine the dimensionality of the preprocessed numerical features\n",
        "dim = scaled_numerical_features.shape[1]\n",
        "\n",
        "# 2. Initialize a FAISS index (using IndexFlatL2 for brute-force Euclidean distance)\n",
        "# IndexFlatL2 is chosen here for simplicity and direct comparison of search time\n",
        "# for exact search with FAISS, as it's equivalent to the brute-force numpy method\n",
        "faiss_index = faiss.IndexFlatL2(dim)\n",
        "\n",
        "# 3. Add the preprocessed numerical features to the FAISS index\n",
        "faiss_index.add(scaled_numerical_features)\n",
        "\n",
        "# 4. Select the same query point used for the exact nearest neighbor search (already have query_point)\n",
        "# FAISS search expects a 2D array for the query, even for a single point\n",
        "query_point_faiss = np.array([query_point], dtype='float32')\n",
        "\n",
        "\n",
        "# 5. Measure the time taken to perform a search for the 10 nearest neighbors\n",
        "k = 10\n",
        "start_time_faiss = time.time()\n",
        "faiss_nn_distances, faiss_nn_indices = faiss_index.search(query_point_faiss, k)\n",
        "end_time_faiss = time.time()\n",
        "faiss_query_time = end_time_faiss - start_time_faiss\n",
        "\n",
        "# 6. Store the indices and distances of the nearest neighbors (done in step 5 variables)\n",
        "\n",
        "# 7. Print the indices, distances, and the query time\n",
        "print(\"FAISS NN Indices:\", faiss_nn_indices)\n",
        "print(\"FAISS NN Distances:\", faiss_nn_distances)\n",
        "print(\"FAISS Query Time:\", faiss_query_time, \"seconds\")"
      ],
      "metadata": {
        "id": "uIilvAHSRiMa",
        "outputId": "ef61c995-4f7f-441b-b131-f1bccfcb4cb4",
        "colab": {
          "base_uri": "https://localhost:8080/"
        }
      },
      "execution_count": 43,
      "outputs": [
        {
          "output_type": "stream",
          "name": "stdout",
          "text": [
            "FAISS NN Indices: [[121958 845348 443049 651777 722972 443048  12953 903724 287397 117008]]\n",
            "FAISS NN Distances: [[0.         0.568039   0.6120331  0.63737553 0.66385645 0.68487895\n",
            "  0.6950696  0.77510816 0.7954521  0.80004114]]\n",
            "FAISS Query Time: 0.028103351593017578 seconds\n"
          ]
        }
      ]
    },
    {
      "cell_type": "markdown",
      "source": [
        "## Hnswlib nearest neighbor search"
      ],
      "metadata": {
        "id": "v9H6kKa4RkxJ"
      }
    },
    {
      "cell_type": "code",
      "source": [
        "import hnswlib\n",
        "import time\n",
        "\n",
        "# 1. Determine the dimensionality of the preprocessed numerical features.\n",
        "dim = scaled_numerical_features.shape[1]\n",
        "num_elements = scaled_numerical_features.shape[0]\n",
        "\n",
        "# 2. Initialize an HNSWLIB index with the appropriate space ('l2' for Euclidean) and dimension.\n",
        "# 3. Initialize the index with a maximum number of elements and suitable ef_construction and M parameters.\n",
        "hnsw_index = hnswlib.Index(space='l2', dim=dim)\n",
        "hnsw_index.init_index(max_elements=num_elements, ef_construction=200, M=16)\n",
        "\n",
        "# 4. Add the preprocessed numerical features to the HNSWLIB index.\n",
        "hnsw_index.add_items(scaled_numerical_features)\n",
        "\n",
        "# 5. Set the ef parameter for searching to a suitable value.\n",
        "hnsw_index.set_ef(50)\n",
        "\n",
        "# 6. Select the same query point used for previous searches. (query_point is already defined)\n",
        "# HNSWLIB knn_query expects a 2D array for the query\n",
        "query_point_hnsw = np.array([query_point], dtype='float32')\n",
        "\n",
        "# 7. Measure the time taken to perform a search for the 10 nearest neighbors using the knn_query method.\n",
        "k = 10\n",
        "start_time_hnsw = time.time()\n",
        "hnsw_nn_indices, hnsw_nn_distances = hnsw_index.knn_query(query_point_hnsw, k=k)\n",
        "end_time_hnsw = time.time()\n",
        "hnsw_query_time = end_time_hnsw - start_time_hnsw\n",
        "\n",
        "# 8. Store the indices and distances of the nearest neighbors. (done in step 7 variables)\n",
        "\n",
        "# 9. Print the indices, distances, and the query time.\n",
        "print(\"HNSWLIB NN Indices:\", hnsw_nn_indices)\n",
        "print(\"HNSWLIB NN Distances:\", hnsw_nn_distances)\n",
        "print(\"HNSWLIB Query Time:\", hnsw_query_time, \"seconds\")"
      ],
      "metadata": {
        "id": "eP3aXX_ORmka",
        "outputId": "e72dbda9-5354-4321-ba5f-61cf50deb2ce",
        "colab": {
          "base_uri": "https://localhost:8080/"
        }
      },
      "execution_count": 44,
      "outputs": [
        {
          "output_type": "stream",
          "name": "stdout",
          "text": [
            "HNSWLIB NN Indices: [[121958 845348 443049 651777 722972 443048  12953 903724 287397 117008]]\n",
            "HNSWLIB NN Distances: [[0.         0.568039   0.6120331  0.63737553 0.66385645 0.68487895\n",
            "  0.69506955 0.77510816 0.7954522  0.80004114]]\n",
            "HNSWLIB Query Time: 0.00040340423583984375 seconds\n"
          ]
        }
      ]
    },
    {
      "cell_type": "markdown",
      "source": [
        "## Compare performance"
      ],
      "metadata": {
        "id": "Ei59Y_naRpe_"
      }
    },
    {
      "cell_type": "code",
      "source": [
        "import pandas as pd\n",
        "\n",
        "# Create a DataFrame to store the results\n",
        "results_data = {\n",
        "    'Method': ['Exact NN', 'Annoy', 'FAISS', 'HNSWLIB'],\n",
        "    'Search Time (s)': [exact_nn_search_time, annoy_query_time, faiss_query_time, hnsw_query_time]\n",
        "}\n",
        "\n",
        "results_df = pd.DataFrame(results_data)\n",
        "\n",
        "# Display the DataFrame\n",
        "display(results_df)"
      ],
      "metadata": {
        "id": "V4syXh-SRsQB",
        "outputId": "425c06ca-3039-4e01-acfd-992bc6d15075",
        "colab": {
          "base_uri": "https://localhost:8080/",
          "height": 175
        }
      },
      "execution_count": 45,
      "outputs": [
        {
          "output_type": "display_data",
          "data": {
            "text/plain": [
              "     Method  Search Time (s)\n",
              "0  Exact NN         0.156284\n",
              "1     Annoy         0.000336\n",
              "2     FAISS         0.028103\n",
              "3   HNSWLIB         0.000403"
            ],
            "text/html": [
              "\n",
              "  <div id=\"df-fb2efb31-5d89-4f0b-9ffe-48398fdce8e6\" class=\"colab-df-container\">\n",
              "    <div>\n",
              "<style scoped>\n",
              "    .dataframe tbody tr th:only-of-type {\n",
              "        vertical-align: middle;\n",
              "    }\n",
              "\n",
              "    .dataframe tbody tr th {\n",
              "        vertical-align: top;\n",
              "    }\n",
              "\n",
              "    .dataframe thead th {\n",
              "        text-align: right;\n",
              "    }\n",
              "</style>\n",
              "<table border=\"1\" class=\"dataframe\">\n",
              "  <thead>\n",
              "    <tr style=\"text-align: right;\">\n",
              "      <th></th>\n",
              "      <th>Method</th>\n",
              "      <th>Search Time (s)</th>\n",
              "    </tr>\n",
              "  </thead>\n",
              "  <tbody>\n",
              "    <tr>\n",
              "      <th>0</th>\n",
              "      <td>Exact NN</td>\n",
              "      <td>0.156284</td>\n",
              "    </tr>\n",
              "    <tr>\n",
              "      <th>1</th>\n",
              "      <td>Annoy</td>\n",
              "      <td>0.000336</td>\n",
              "    </tr>\n",
              "    <tr>\n",
              "      <th>2</th>\n",
              "      <td>FAISS</td>\n",
              "      <td>0.028103</td>\n",
              "    </tr>\n",
              "    <tr>\n",
              "      <th>3</th>\n",
              "      <td>HNSWLIB</td>\n",
              "      <td>0.000403</td>\n",
              "    </tr>\n",
              "  </tbody>\n",
              "</table>\n",
              "</div>\n",
              "    <div class=\"colab-df-buttons\">\n",
              "\n",
              "  <div class=\"colab-df-container\">\n",
              "    <button class=\"colab-df-convert\" onclick=\"convertToInteractive('df-fb2efb31-5d89-4f0b-9ffe-48398fdce8e6')\"\n",
              "            title=\"Convert this dataframe to an interactive table.\"\n",
              "            style=\"display:none;\">\n",
              "\n",
              "  <svg xmlns=\"http://www.w3.org/2000/svg\" height=\"24px\" viewBox=\"0 -960 960 960\">\n",
              "    <path d=\"M120-120v-720h720v720H120Zm60-500h600v-160H180v160Zm220 220h160v-160H400v160Zm0 220h160v-160H400v160ZM180-400h160v-160H180v160Zm440 0h160v-160H620v160ZM180-180h160v-160H180v160Zm440 0h160v-160H620v160Z\"/>\n",
              "  </svg>\n",
              "    </button>\n",
              "\n",
              "  <style>\n",
              "    .colab-df-container {\n",
              "      display:flex;\n",
              "      gap: 12px;\n",
              "    }\n",
              "\n",
              "    .colab-df-convert {\n",
              "      background-color: #E8F0FE;\n",
              "      border: none;\n",
              "      border-radius: 50%;\n",
              "      cursor: pointer;\n",
              "      display: none;\n",
              "      fill: #1967D2;\n",
              "      height: 32px;\n",
              "      padding: 0 0 0 0;\n",
              "      width: 32px;\n",
              "    }\n",
              "\n",
              "    .colab-df-convert:hover {\n",
              "      background-color: #E2EBFA;\n",
              "      box-shadow: 0px 1px 2px rgba(60, 64, 67, 0.3), 0px 1px 3px 1px rgba(60, 64, 67, 0.15);\n",
              "      fill: #174EA6;\n",
              "    }\n",
              "\n",
              "    .colab-df-buttons div {\n",
              "      margin-bottom: 4px;\n",
              "    }\n",
              "\n",
              "    [theme=dark] .colab-df-convert {\n",
              "      background-color: #3B4455;\n",
              "      fill: #D2E3FC;\n",
              "    }\n",
              "\n",
              "    [theme=dark] .colab-df-convert:hover {\n",
              "      background-color: #434B5C;\n",
              "      box-shadow: 0px 1px 3px 1px rgba(0, 0, 0, 0.15);\n",
              "      filter: drop-shadow(0px 1px 2px rgba(0, 0, 0, 0.3));\n",
              "      fill: #FFFFFF;\n",
              "    }\n",
              "  </style>\n",
              "\n",
              "    <script>\n",
              "      const buttonEl =\n",
              "        document.querySelector('#df-fb2efb31-5d89-4f0b-9ffe-48398fdce8e6 button.colab-df-convert');\n",
              "      buttonEl.style.display =\n",
              "        google.colab.kernel.accessAllowed ? 'block' : 'none';\n",
              "\n",
              "      async function convertToInteractive(key) {\n",
              "        const element = document.querySelector('#df-fb2efb31-5d89-4f0b-9ffe-48398fdce8e6');\n",
              "        const dataTable =\n",
              "          await google.colab.kernel.invokeFunction('convertToInteractive',\n",
              "                                                    [key], {});\n",
              "        if (!dataTable) return;\n",
              "\n",
              "        const docLinkHtml = 'Like what you see? Visit the ' +\n",
              "          '<a target=\"_blank\" href=https://colab.research.google.com/notebooks/data_table.ipynb>data table notebook</a>'\n",
              "          + ' to learn more about interactive tables.';\n",
              "        element.innerHTML = '';\n",
              "        dataTable['output_type'] = 'display_data';\n",
              "        await google.colab.output.renderOutput(dataTable, element);\n",
              "        const docLink = document.createElement('div');\n",
              "        docLink.innerHTML = docLinkHtml;\n",
              "        element.appendChild(docLink);\n",
              "      }\n",
              "    </script>\n",
              "  </div>\n",
              "\n",
              "\n",
              "    <div id=\"df-dfb96dbd-1b0f-4e3a-997f-283623dc493d\">\n",
              "      <button class=\"colab-df-quickchart\" onclick=\"quickchart('df-dfb96dbd-1b0f-4e3a-997f-283623dc493d')\"\n",
              "                title=\"Suggest charts\"\n",
              "                style=\"display:none;\">\n",
              "\n",
              "<svg xmlns=\"http://www.w3.org/2000/svg\" height=\"24px\"viewBox=\"0 0 24 24\"\n",
              "     width=\"24px\">\n",
              "    <g>\n",
              "        <path d=\"M19 3H5c-1.1 0-2 .9-2 2v14c0 1.1.9 2 2 2h14c1.1 0 2-.9 2-2V5c0-1.1-.9-2-2-2zM9 17H7v-7h2v7zm4 0h-2V7h2v10zm4 0h-2v-4h2v4z\"/>\n",
              "    </g>\n",
              "</svg>\n",
              "      </button>\n",
              "\n",
              "<style>\n",
              "  .colab-df-quickchart {\n",
              "      --bg-color: #E8F0FE;\n",
              "      --fill-color: #1967D2;\n",
              "      --hover-bg-color: #E2EBFA;\n",
              "      --hover-fill-color: #174EA6;\n",
              "      --disabled-fill-color: #AAA;\n",
              "      --disabled-bg-color: #DDD;\n",
              "  }\n",
              "\n",
              "  [theme=dark] .colab-df-quickchart {\n",
              "      --bg-color: #3B4455;\n",
              "      --fill-color: #D2E3FC;\n",
              "      --hover-bg-color: #434B5C;\n",
              "      --hover-fill-color: #FFFFFF;\n",
              "      --disabled-bg-color: #3B4455;\n",
              "      --disabled-fill-color: #666;\n",
              "  }\n",
              "\n",
              "  .colab-df-quickchart {\n",
              "    background-color: var(--bg-color);\n",
              "    border: none;\n",
              "    border-radius: 50%;\n",
              "    cursor: pointer;\n",
              "    display: none;\n",
              "    fill: var(--fill-color);\n",
              "    height: 32px;\n",
              "    padding: 0;\n",
              "    width: 32px;\n",
              "  }\n",
              "\n",
              "  .colab-df-quickchart:hover {\n",
              "    background-color: var(--hover-bg-color);\n",
              "    box-shadow: 0 1px 2px rgba(60, 64, 67, 0.3), 0 1px 3px 1px rgba(60, 64, 67, 0.15);\n",
              "    fill: var(--button-hover-fill-color);\n",
              "  }\n",
              "\n",
              "  .colab-df-quickchart-complete:disabled,\n",
              "  .colab-df-quickchart-complete:disabled:hover {\n",
              "    background-color: var(--disabled-bg-color);\n",
              "    fill: var(--disabled-fill-color);\n",
              "    box-shadow: none;\n",
              "  }\n",
              "\n",
              "  .colab-df-spinner {\n",
              "    border: 2px solid var(--fill-color);\n",
              "    border-color: transparent;\n",
              "    border-bottom-color: var(--fill-color);\n",
              "    animation:\n",
              "      spin 1s steps(1) infinite;\n",
              "  }\n",
              "\n",
              "  @keyframes spin {\n",
              "    0% {\n",
              "      border-color: transparent;\n",
              "      border-bottom-color: var(--fill-color);\n",
              "      border-left-color: var(--fill-color);\n",
              "    }\n",
              "    20% {\n",
              "      border-color: transparent;\n",
              "      border-left-color: var(--fill-color);\n",
              "      border-top-color: var(--fill-color);\n",
              "    }\n",
              "    30% {\n",
              "      border-color: transparent;\n",
              "      border-left-color: var(--fill-color);\n",
              "      border-top-color: var(--fill-color);\n",
              "      border-right-color: var(--fill-color);\n",
              "    }\n",
              "    40% {\n",
              "      border-color: transparent;\n",
              "      border-right-color: var(--fill-color);\n",
              "      border-top-color: var(--fill-color);\n",
              "    }\n",
              "    60% {\n",
              "      border-color: transparent;\n",
              "      border-right-color: var(--fill-color);\n",
              "    }\n",
              "    80% {\n",
              "      border-color: transparent;\n",
              "      border-right-color: var(--fill-color);\n",
              "      border-bottom-color: var(--fill-color);\n",
              "    }\n",
              "    90% {\n",
              "      border-color: transparent;\n",
              "      border-bottom-color: var(--fill-color);\n",
              "    }\n",
              "  }\n",
              "</style>\n",
              "\n",
              "      <script>\n",
              "        async function quickchart(key) {\n",
              "          const quickchartButtonEl =\n",
              "            document.querySelector('#' + key + ' button');\n",
              "          quickchartButtonEl.disabled = true;  // To prevent multiple clicks.\n",
              "          quickchartButtonEl.classList.add('colab-df-spinner');\n",
              "          try {\n",
              "            const charts = await google.colab.kernel.invokeFunction(\n",
              "                'suggestCharts', [key], {});\n",
              "          } catch (error) {\n",
              "            console.error('Error during call to suggestCharts:', error);\n",
              "          }\n",
              "          quickchartButtonEl.classList.remove('colab-df-spinner');\n",
              "          quickchartButtonEl.classList.add('colab-df-quickchart-complete');\n",
              "        }\n",
              "        (() => {\n",
              "          let quickchartButtonEl =\n",
              "            document.querySelector('#df-dfb96dbd-1b0f-4e3a-997f-283623dc493d button');\n",
              "          quickchartButtonEl.style.display =\n",
              "            google.colab.kernel.accessAllowed ? 'block' : 'none';\n",
              "        })();\n",
              "      </script>\n",
              "    </div>\n",
              "\n",
              "  <div id=\"id_7ef5944a-96e5-4347-ad36-381d41db119d\">\n",
              "    <style>\n",
              "      .colab-df-generate {\n",
              "        background-color: #E8F0FE;\n",
              "        border: none;\n",
              "        border-radius: 50%;\n",
              "        cursor: pointer;\n",
              "        display: none;\n",
              "        fill: #1967D2;\n",
              "        height: 32px;\n",
              "        padding: 0 0 0 0;\n",
              "        width: 32px;\n",
              "      }\n",
              "\n",
              "      .colab-df-generate:hover {\n",
              "        background-color: #E2EBFA;\n",
              "        box-shadow: 0px 1px 2px rgba(60, 64, 67, 0.3), 0px 1px 3px 1px rgba(60, 64, 67, 0.15);\n",
              "        fill: #174EA6;\n",
              "      }\n",
              "\n",
              "      [theme=dark] .colab-df-generate {\n",
              "        background-color: #3B4455;\n",
              "        fill: #D2E3FC;\n",
              "      }\n",
              "\n",
              "      [theme=dark] .colab-df-generate:hover {\n",
              "        background-color: #434B5C;\n",
              "        box-shadow: 0px 1px 3px 1px rgba(0, 0, 0, 0.15);\n",
              "        filter: drop-shadow(0px 1px 2px rgba(0, 0, 0, 0.3));\n",
              "        fill: #FFFFFF;\n",
              "      }\n",
              "    </style>\n",
              "    <button class=\"colab-df-generate\" onclick=\"generateWithVariable('results_df')\"\n",
              "            title=\"Generate code using this dataframe.\"\n",
              "            style=\"display:none;\">\n",
              "\n",
              "  <svg xmlns=\"http://www.w3.org/2000/svg\" height=\"24px\"viewBox=\"0 0 24 24\"\n",
              "       width=\"24px\">\n",
              "    <path d=\"M7,19H8.4L18.45,9,17,7.55,7,17.6ZM5,21V16.75L18.45,3.32a2,2,0,0,1,2.83,0l1.4,1.43a1.91,1.91,0,0,1,.58,1.4,1.91,1.91,0,0,1-.58,1.4L9.25,21ZM18.45,9,17,7.55Zm-12,3A5.31,5.31,0,0,0,4.9,8.1,5.31,5.31,0,0,0,1,6.5,5.31,5.31,0,0,0,4.9,4.9,5.31,5.31,0,0,0,6.5,1,5.31,5.31,0,0,0,8.1,4.9,5.31,5.31,0,0,0,12,6.5,5.46,5.46,0,0,0,6.5,12Z\"/>\n",
              "  </svg>\n",
              "    </button>\n",
              "    <script>\n",
              "      (() => {\n",
              "      const buttonEl =\n",
              "        document.querySelector('#id_7ef5944a-96e5-4347-ad36-381d41db119d button.colab-df-generate');\n",
              "      buttonEl.style.display =\n",
              "        google.colab.kernel.accessAllowed ? 'block' : 'none';\n",
              "\n",
              "      buttonEl.onclick = () => {\n",
              "        google.colab.notebook.generateWithVariable('results_df');\n",
              "      }\n",
              "      })();\n",
              "    </script>\n",
              "  </div>\n",
              "\n",
              "    </div>\n",
              "  </div>\n"
            ],
            "application/vnd.google.colaboratory.intrinsic+json": {
              "type": "dataframe",
              "variable_name": "results_df",
              "summary": "{\n  \"name\": \"results_df\",\n  \"rows\": 4,\n  \"fields\": [\n    {\n      \"column\": \"Method\",\n      \"properties\": {\n        \"dtype\": \"string\",\n        \"num_unique_values\": 4,\n        \"samples\": [\n          \"Annoy\",\n          \"HNSWLIB\",\n          \"Exact NN\"\n        ],\n        \"semantic_type\": \"\",\n        \"description\": \"\"\n      }\n    },\n    {\n      \"column\": \"Search Time (s)\",\n      \"properties\": {\n        \"dtype\": \"number\",\n        \"std\": 0.0744911182630642,\n        \"min\": 0.000335693359375,\n        \"max\": 0.15628385543823242,\n        \"num_unique_values\": 4,\n        \"samples\": [\n          0.000335693359375,\n          0.00040340423583984375,\n          0.15628385543823242\n        ],\n        \"semantic_type\": \"\",\n        \"description\": \"\"\n      }\n    }\n  ]\n}"
            }
          },
          "metadata": {}
        }
      ]
    }
  ]
}